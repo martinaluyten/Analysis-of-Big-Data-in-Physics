{
  "nbformat": 4,
  "nbformat_minor": 0,
  "metadata": {
    "colab": {
      "provenance": [],
      "authorship_tag": "ABX9TyNKVgs7/ztOFfDPjjcungIG",
      "include_colab_link": true
    },
    "kernelspec": {
      "name": "python3",
      "display_name": "Python 3"
    },
    "language_info": {
      "name": "python"
    }
  },
  "cells": [
    {
      "cell_type": "markdown",
      "metadata": {
        "id": "view-in-github",
        "colab_type": "text"
      },
      "source": [
        "<a href=\"https://colab.research.google.com/github/martinaluyten/Analysis-of-Big-Data-in-Physics/blob/main/Gravitational_wave_data_analysis_Assignment2.ipynb\" target=\"_parent\"><img src=\"https://colab.research.google.com/assets/colab-badge.svg\" alt=\"Open In Colab\"/></a>"
      ]
    },
    {
      "cell_type": "markdown",
      "source": [
        "# Gravitational wave data analysis: Detector noise"
      ],
      "metadata": {
        "id": "5wAAJ29BT51Q"
      }
    },
    {
      "cell_type": "markdown",
      "source": [
        "# Assignment 2"
      ],
      "metadata": {
        "id": "kPJb78TPImGj"
      }
    },
    {
      "cell_type": "code",
      "source": [
        "import sys\n",
        "!{sys.executable} -m pip install lalsuite pycbc"
      ],
      "metadata": {
        "id": "78gIrl42IodG"
      },
      "execution_count": null,
      "outputs": []
    },
    {
      "cell_type": "code",
      "source": [
        "from pycbc.frame import read_frame\n",
        "from pycbc.filter import highpass_fir, lowpass_fir\n",
        "from pycbc.waveform import get_fd_waveform\n",
        "from pycbc.psd import welch, interpolate, inverse_spectrum_truncation\n",
        "from pycbc.catalog import Merger\n",
        "import pylab\n",
        "from pycbc.types import  FrequencySeries, TimeSeries\n",
        "\n",
        "from scipy import interpolate\n",
        "\n",
        "import numpy as np\n",
        "from pycbc import frame\n",
        "import pycbc\n",
        "from pycbc.filter import resample_to_delta_t, highpass\n",
        "import matplotlib.mlab as mlab\n",
        "import matplotlib.pyplot as plt\n",
        "from scipy.stats import norm \n",
        "from pycbc.detector import Detector\n",
        "from scipy.interpolate import interp1d\n",
        "\n",
        "import numpy as np\n",
        "\n",
        "from pycbc.waveform import td_approximants, fd_approximants\n",
        "import pylab\n",
        "from pycbc import types \n",
        "from pycbc.filter import matched_filter\n",
        "from pycbc.waveform import get_td_waveform\n",
        "from pycbc.conversions import mass1_from_mchirp_q"
      ],
      "metadata": {
        "id": "_WZS0p1fJBWE"
      },
      "execution_count": 24,
      "outputs": []
    },
    {
      "cell_type": "code",
      "source": [
        "from google.colab import drive\n",
        "drive.mount('/content/drive')"
      ],
      "metadata": {
        "colab": {
          "base_uri": "https://localhost:8080/"
        },
        "id": "5FGWpGCWJP05",
        "outputId": "78674a42-7b2b-4b44-987d-1abbfc7f7d42"
      },
      "execution_count": 25,
      "outputs": [
        {
          "output_type": "stream",
          "name": "stdout",
          "text": [
            "Drive already mounted at /content/drive; to attempt to forcibly remount, call drive.mount(\"/content/drive\", force_remount=True).\n"
          ]
        }
      ]
    },
    {
      "cell_type": "code",
      "source": [
        "#Loading the data of the LIGO Hanford detector \n",
        "d=np.load('/content/drive/MyDrive/Colab Notebooks/noise_ts_4096Hz.npy')\n",
        "dt=d[:,0]\n",
        "#comverting data into GW timeSeries\n",
        "data_L1 = pycbc.types.TimeSeries(d[:, 1], delta_t = dt[1]- dt[0])\n",
        "strain, stilde = {}, {}\n",
        "\n",
        "strain['L1'] = resample_to_delta_t(highpass(data_L1, 15.0), 1.0/2048)\n",
        "strain['L1'] = strain['L1'].crop(4, 4)\n",
        "\n",
        "#frequency domain version of the data\n",
        "stilde['L1'] = strain['L1'].to_frequencyseries()\n",
        "\n",
        "#pylab.plot(strain['H1'].sample_times, strain['H1'], label= 'H1')\n",
        "pylab.plot(strain['L1'].sample_times, strain['L1'], label= 'L1')\n",
        "pylab.legend()\n",
        "pylab.xlabel('Time (s)')\n",
        "pylab.ylabel('strain')\n",
        "pylab.show()"
      ],
      "metadata": {
        "colab": {
          "base_uri": "https://localhost:8080/",
          "height": 290
        },
        "id": "8uqg77PoJX6T",
        "outputId": "32aac62f-f51f-4dcf-bfa6-f5798e83615f"
      },
      "execution_count": 26,
      "outputs": [
        {
          "output_type": "display_data",
          "data": {
            "text/plain": [
              "<Figure size 432x288 with 1 Axes>"
            ],
            "image/png": "[encoded data removed]"
          },
          "metadata": {
            "needs_background": "light"
          }
        }
      ]
    },
    {
      "cell_type": "markdown",
      "source": [
        "# power spectral density of that data"
      ],
      "metadata": {
        "id": "9MODScYGUMEs"
      }
    },
    {
      "cell_type": "code",
      "source": [
        "#controling the data that will be corrupted by overwhitening the data : chosing 2seconds\n",
        "from pycbc.psd import welch, interpolate, inverse_spectrum_truncation\n",
        "psds={}\n",
        "psds['L1'] = interpolate(strain['L1'].psd(2),stilde['L1'].delta_f)\n",
        "#psd=strain['L1'].psd(4)\n",
        "#psds['L1']=interpolate(strain['L1'].psd(2),stilde['L1'].delta_f)\n",
        "#psds['L1'] = interpolate(welch(strain['L1']), 1.0 / strain['L1'].duration)\n",
        "#psd = interpolate(psd, strain['L1'].delta_f)\n",
        "psds['L1']=inverse_spectrum_truncation(psds['L1'],int(2*strain['L1'].sample_rate),\n",
        "                                                        low_frequency_cutoff=15.0,\n",
        "                                                        trunc_method='hann')\n",
        "pylab.loglog(psds['L1'].sample_frequencies,psds['L1'],label='L1')\n",
        "pylab.xlabel(\"Frequency\")\n",
        "pylab.ylabel(\"Power Spectral Density\")\n",
        "pylab.legend()\n",
        "\n",
        "pylab.xlim(20,1024)\n",
        "pylab.ylim(1e-47,1e-42)"
      ],
      "metadata": {
        "colab": {
          "base_uri": "https://localhost:8080/",
          "height": 306
        },
        "id": "KfmwvwuRGGLe",
        "outputId": "f74e4ff6-2c12-4ad9-9f64-f3cb0cf48f54"
      },
      "execution_count": 27,
      "outputs": [
        {
          "output_type": "execute_result",
          "data": {
            "text/plain": [
              "(1e-47, 1e-42)"
            ]
          },
          "metadata": {},
          "execution_count": 27
        },
        {
          "output_type": "display_data",
          "data": {
            "text/plain": [
              "<Figure size 432x288 with 1 Axes>"
            ],
            "image/png": "[encoded data removed]"
          },
          "metadata": {
            "needs_background": "light"
          }
        }
      ]
    },
    {
      "cell_type": "markdown",
      "source": [
        "**calculating matched filter**"
      ],
      "metadata": {
        "id": "j42PmIcSWNG1"
      }
    },
    {
      "cell_type": "code",
      "source": [
        "#calculating matched filter to test whether there is any gravitational wave signal present in the data\n",
        "from pycbc.waveform import get_td_waveform\n",
        "from pycbc.filter import match\n",
        "from pycbc.psd import aLIGOZeroDetHighPower\n",
        "from pyparsing.helpers import MatchFirst\n",
        "import pandas as pd\n",
        "f_low=20\n",
        "masses=np.arange(5,10,0.1)\n",
        "snrs={}\n",
        "\n",
        "#template waveforms with mass ranges between 5 to 10 with equal mass binary systems\n",
        "for m in masses:\n",
        "  hp, hc=get_fd_waveform(approximant='TaylorF2',\n",
        "                         mass1=m,mass2=m,\n",
        "                         f_lower=15,\n",
        "                         delta_f=stilde['L1'].delta_f) #1.0/stilde['L1'].duration\n",
        "  hp.resize(len(stilde['L1']))\n",
        "  template=hp.cyclic_time_shift(hp.start_time)\n",
        "  #psd.resize(len(stilde['L1'])) \n",
        "  snr=matched_filter(template,strain['L1'],psd=psds['L1'],low_frequency_cutoff=15.0)\n",
        "  snr=snr.crop(4+4,4)\n",
        "\n",
        "\n",
        "#tlen=len(stilde['L1'])\n",
        " # hp.resize(tlen)\n",
        "  #flow=20\n",
        "  #delta_f = 1.0/stilde['L1'].duration\n",
        "  #flen=tlen//2+1\n",
        "  #psd=aLIGOZeroDetHighPower(flen,delta_f,f_low)\n",
        "\n",
        "  #snr=matched_filter(hp,stilde['L1'],psd=psd,low_frequency_cutoff=20)\n",
        "\n"
      ],
      "metadata": {
        "id": "Wg8GUpz_KPwy"
      },
      "execution_count": 28,
      "outputs": []
    },
    {
      "cell_type": "code",
      "source": [
        "pylab.plot(snr.sample_times, abs(snr))\n",
        "pylab.ylabel('signal to noise ratio')\n",
        "pylab.xlabel('time (s)')\n",
        "pylab.title(\"SNR over time\")\n",
        "pylab.show()\n",
        "print ( 'Maximum SNR', max(abs(snr)) )"
      ],
      "metadata": {
        "colab": {
          "base_uri": "https://localhost:8080/",
          "height": 312
        },
        "id": "X2qlkcQFyeNJ",
        "outputId": "90826f44-5228-4c91-9eee-864021b3ce30"
      },
      "execution_count": 29,
      "outputs": [
        {
          "output_type": "display_data",
          "data": {
            "text/plain": [
              "<Figure size 432x288 with 1 Axes>"
            ],
            "image/png": "[encoded data removed]"
          },
          "metadata": {
            "needs_background": "light"
          }
        },
        {
          "output_type": "stream",
          "name": "stdout",
          "text": [
            "Maximum SNR 5.786891962082004\n"
          ]
        }
      ]
    },
    {
      "cell_type": "markdown",
      "source": [
        "Maximum SNR(signal to noise ratio) doesn't crosses 8 therefore the data corresponds to only noise."
      ],
      "metadata": {
        "id": "c1QwoKymyuYD"
      }
    },
    {
      "cell_type": "markdown",
      "source": [
        "**Gaussian distribution***"
      ],
      "metadata": {
        "id": "bAgI1A_NW8fG"
      }
    },
    {
      "cell_type": "code",
      "source": [
        "##whitening the data\n",
        "import pycbc.psd\n",
        "white_data=((stilde['L1']/psds['L1'])**0.5).to_timeseries()\n",
        "white_data=white_data.crop(4,4)"
      ],
      "metadata": {
        "id": "KYpZRiYdy49p"
      },
      "execution_count": 30,
      "outputs": []
    },
    {
      "cell_type": "code",
      "source": [
        "#plotting histogram of the whitened data\n",
        "num_bins = 200\n",
        "n, bins, patches = plt.hist(white_data, num_bins, facecolor='blue', alpha=0.5)\n",
        "plt.title(\"Histogram of Whitened Data\")\n",
        "plt.show()"
      ],
      "metadata": {
        "colab": {
          "base_uri": "https://localhost:8080/",
          "height": 294
        },
        "id": "gSN5jQRJ0UUl",
        "outputId": "16e50adf-3c89-411f-ee0c-3229fb16822c"
      },
      "execution_count": 31,
      "outputs": [
        {
          "output_type": "display_data",
          "data": {
            "text/plain": [
              "<Figure size 432x288 with 1 Axes>"
            ],
            "image/png": "[encoded data removed]"
          },
          "metadata": {
            "needs_background": "light"
          }
        }
      ]
    },
    {
      "cell_type": "markdown",
      "source": [
        "we can see that the distribution is a Gaussian distribution with zero mean."
      ],
      "metadata": {
        "id": "KjTrjVrAXI7-"
      }
    },
    {
      "cell_type": "markdown",
      "source": [
        "**stationary assumption: noise is stationary Gaussian:**\n",
        "\n",
        "testing whether the noise follows the stationary assumption"
      ],
      "metadata": {
        "id": "g4YrBMNpXqCq"
      }
    },
    {
      "cell_type": "code",
      "source": [
        "#generating a frequency domain waveform\n",
        "hp, hc=get_fd_waveform(approximant='TaylorF2',\n",
        "                       mass1=3,mass2=3,\n",
        "                       delta_f=1/200,\n",
        "                       distance=500,\n",
        "                       f_lower=20,f_final=2048)"
      ],
      "metadata": {
        "id": "a6Qpeotv3iFq"
      },
      "execution_count": 32,
      "outputs": []
    },
    {
      "cell_type": "code",
      "source": [
        "dt = d[:, 0]\n",
        "d = pycbc.types.TimeSeries(d[:, 1], delta_t = dt[1]- dt[0])\n",
        "data = d"
      ],
      "metadata": {
        "id": "4xLGN8wPo3gH"
      },
      "execution_count": 33,
      "outputs": []
    },
    {
      "cell_type": "code",
      "source": [
        "snr_list = []\n",
        "\n",
        "#dividing data into equal time intervals\n",
        "chunck = (int)(len(data)/1000)\n",
        "delta_f=1.0/(200)\n",
        "\n",
        "#estimating the psd from each chunks for data\n",
        "for index in range(1000):\n",
        " \n",
        "  data_chuncks = data[index*chunck : (index+1)*chunck]\n",
        "  psd_list = interpolate(welch(data_chuncks), delta_f)\n",
        "  snr = (pycbc.filter.sigmasq(hp, psd_list))**0.5\n",
        "  \n",
        "  snr_list.append(snr)\n",
        "\n",
        "#histogram out of the estimated SNR\n",
        "plt.hist(snr_list, 100, density=True)\n",
        "pylab.xlabel('Signal to Noise Ratio')\n",
        "pylab.show()  "
      ],
      "metadata": {
        "colab": {
          "base_uri": "https://localhost:8080/",
          "height": 279
        },
        "id": "49V6l00zpN0P",
        "outputId": "ebc439ce-313d-43f1-f22f-447a1ed4986b"
      },
      "execution_count": 34,
      "outputs": [
        {
          "output_type": "display_data",
          "data": {
            "text/plain": [
              "<Figure size 432x288 with 1 Axes>"
            ],
            "image/png": "[encoded data removed]"
          },
          "metadata": {
            "needs_background": "light"
          }
        }
      ]
    },
    {
      "cell_type": "markdown",
      "source": [
        "If the noise was Gaussian Statiionary a mean of 0 would be expected on the avove histograms of the SNR of the individual chunks. This shows that the stationary assumption that the noise is stationary Gaussian does not hold."
      ],
      "metadata": {
        "id": "p7W8zRF2ZiQv"
      }
    }
  ]
}