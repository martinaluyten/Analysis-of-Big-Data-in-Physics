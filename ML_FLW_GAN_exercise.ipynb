{
  "cells": [
    {
      "cell_type": "markdown",
      "metadata": {
        "id": "view-in-github",
        "colab_type": "text"
      },
      "source": [
        "<a href=\"https://colab.research.google.com/github/martinaluyten/Analysis-of-Big-Data-in-Physics/blob/main/ML_FLW_GAN_exercise.ipynb\" target=\"_parent\"><img src=\"https://colab.research.google.com/assets/colab-badge.svg\" alt=\"Open In Colab\"/></a>"
      ]
    },
    {
      "cell_type": "code",
      "execution_count": null,
      "metadata": {
        "colab": {
          "base_uri": "https://localhost:8080/"
        },
        "id": "KH_fIMnXB_aI",
        "outputId": "68d6a530-a733-4e82-8928-f0784d45bd9b"
      },
      "outputs": [
        {
          "name": "stdout",
          "output_type": "stream",
          "text": [
            "--2023-03-20 08:28:08--  http://www.cs.columbia.edu/CAVE/databases/pubfig/download/lfw_attributes.txt\n",
            "Resolving www.cs.columbia.edu (www.cs.columbia.edu)... 128.59.11.206\n",
            "Connecting to www.cs.columbia.edu (www.cs.columbia.edu)|128.59.11.206|:80... connected.\n",
            "HTTP request sent, awaiting response... 301 Moved Permanently\n",
            "Location: https://www.cs.columbia.edu/CAVE/databases/pubfig/download/lfw_attributes.txt [following]\n",
            "--2023-03-20 08:28:09--  https://www.cs.columbia.edu/CAVE/databases/pubfig/download/lfw_attributes.txt\n",
            "Connecting to www.cs.columbia.edu (www.cs.columbia.edu)|128.59.11.206|:443... connected.\n",
            "HTTP request sent, awaiting response... 200 OK\n",
            "Length: 14879205 (14M) [text/plain]\n",
            "Saving to: ‘lfw_attributes.txt.5’\n",
            "\n",
            "lfw_attributes.txt. 100%[===================>]  14.19M  7.09MB/s    in 2.0s    \n",
            "\n",
            "2023-03-20 08:28:12 (7.09 MB/s) - ‘lfw_attributes.txt.5’ saved [14879205/14879205]\n",
            "\n",
            "--2023-03-20 08:28:12--  http://vis-www.cs.umass.edu/lfw/lfw-funneled.tgz\n",
            "Resolving vis-www.cs.umass.edu (vis-www.cs.umass.edu)... 128.119.244.95\n",
            "Connecting to vis-www.cs.umass.edu (vis-www.cs.umass.edu)|128.119.244.95|:80... connected.\n",
            "HTTP request sent, awaiting response... 200 OK\n",
            "Length: 243346528 (232M) [application/x-gzip]\n",
            "Saving to: ‘lfw-funneled.tgz.5’\n",
            "\n",
            "lfw-funneled.tgz.5  100%[===================>] 232.07M  15.4MB/s    in 17s     \n",
            "\n",
            "2023-03-20 08:28:29 (14.1 MB/s) - ‘lfw-funneled.tgz.5’ saved [243346528/243346528]\n",
            "\n"
          ]
        }
      ],
      "source": [
        "# training GANS is a slow process: be sure to switch to hardware accelerator GPU in 'change runtime type', and switch to high-RAM when prompted.\n",
        "# GAN procedure mostly taken from https://github.com/yandexdataschool/mlhep2018/ \n",
        "\n",
        "# Download dataset\n",
        "!wget http://www.cs.columbia.edu/CAVE/databases/pubfig/download/lfw_attributes.txt\n",
        "!wget http://vis-www.cs.umass.edu/lfw/lfw-funneled.tgz # 233 MB!\n",
        "!tar -xf lfw-funneled.tgz"
      ]
    },
    {
      "cell_type": "code",
      "execution_count": null,
      "metadata": {
        "id": "qnRedA7781oU"
      },
      "outputs": [],
      "source": [
        "# Some data-handling tools and imports\n",
        "\n",
        "import numpy as np\n",
        "import os\n",
        "import subprocess\n",
        "from imageio import imread\n",
        "#from scipy.misc import imresize\n",
        "#!pip install pillow\n",
        "from PIL import Image\n",
        "import pandas as pd\n",
        "\n",
        "def fetch_lfw_dataset(attrs_name = \"lfw_attributes.txt\",\n",
        "                      images_name = \"lfw-deepfunneled\",\n",
        "                      raw_images_name = \"lfw\",\n",
        "                      use_raw=False,\n",
        "                      dx=80,dy=80,\n",
        "                      dimx=45,dimy=45):\n",
        "\n",
        "    # read attrs\n",
        "    # the header row begins with a #, which we want to ignore\n",
        "    with open(attrs_name) as attributes_file:\n",
        "        attributes_file.readline()\n",
        "        ugly_header = attributes_file.read(2)\n",
        "        assert ugly_header == \"#\\t\"\n",
        "        df_attrs = pd.read_csv(attributes_file, sep='\\t', skipinitialspace=True)\n",
        "        #print(df_attrs) \n",
        "        #print(df_attrs.columns.values.tolist())\n",
        "    \n",
        "    #read photos\n",
        "    dirname = raw_images_name if use_raw else images_name\n",
        "    photo_ids = []\n",
        "    initial_depth = dirname.count(os.sep)\n",
        "    for dirpath, dirnames, filenames in os.walk(dirname):\n",
        "        if dirpath.count(os.sep) - initial_depth > 1:\n",
        "            continue\n",
        "        for fname in filenames:\n",
        "            if fname.endswith(\".jpg\"):\n",
        "                photo_id = fname[:-4].replace('_',' ').split()\n",
        "                person_id = ' '.join(photo_id[:-1])\n",
        "                photo_number = int(photo_id[-1])\n",
        "                fpath = os.path.join(dirpath, fname)\n",
        "                photo_ids.append({'person':person_id,'imagenum':photo_number,'photo_path':fpath})\n",
        "\n",
        "    photo_ids = pd.DataFrame(photo_ids)\n",
        "\n",
        "    # mass-merge\n",
        "    # (photos now have same order as attributes)\n",
        "    df = pd.merge(df_attrs,photo_ids,on=('person','imagenum'))\n",
        "\n",
        "    assert len(df)==len(df_attrs),\"lost some data when merging dataframes\"\n",
        "\n",
        "    #image preprocessing\n",
        "    all_photos =df['photo_path'].apply(imread)\\\n",
        "                                .apply(lambda img:img[dy:-dy,dx:-dx])\\\n",
        "                                .apply(lambda img: Image.fromarray(img).resize([dimx,dimy]) )\n",
        "\n",
        "    all_photos = np.stack(all_photos.values).astype('uint8')\n",
        "    all_attrs = df.drop([\"photo_path\",\"person\",\"imagenum\"], axis=1)\n",
        "    \n",
        "    return all_photos, all_attrs"
      ]
    },
    {
      "cell_type": "code",
      "execution_count": null,
      "metadata": {
        "colab": {
          "background_save": true
        },
        "id": "eyFG9F6b_P1R"
      },
      "outputs": [],
      "source": [
        "# Fetch the datasets of faces\n",
        "\n",
        "#%env CUDA_VISIBLE_DEVICES=0\n",
        "\n",
        "import matplotlib.pyplot as plt\n",
        "%matplotlib inline\n",
        "import numpy as np\n",
        "plt.rcParams.update({'axes.titlesize': 'small'})\n",
        "\n",
        "# a utility to load the dataset\n",
        "data, _ = fetch_lfw_dataset(dimx=36, dimy=36,\n",
        "                            images_name=\"lfw_funneled\",\n",
        "                            attrs_name=\"lfw_attributes.txt\",\n",
        "                            )\n",
        "\n",
        "# preprocess faces\n",
        "data = np.float32(data)/255.\n",
        "\n",
        "IMG_SHAPE = data.shape[1:]"
      ]
    },
    {
      "cell_type": "code",
      "execution_count": null,
      "metadata": {
        "colab": {
          "background_save": true
        },
        "id": "T1-_inEph8dO",
        "outputId": "25a51f1f-e2a7-485e-e5ab-a3f52120f6ea"
      },
      "outputs": [
        {
          "name": "stderr",
          "output_type": "stream",
          "text": [
            "<ipython-input-4-ab06be3d0d68>:7: MatplotlibDeprecationWarning: Auto-removal of overlapping axes is deprecated since 3.6 and will be removed two minor releases later; explicitly call ax.remove() as needed.\n",
            "  plt.subplot(1,5,i+1)\n"
          ]
        },
        {
          "data": {
            "image/png": "[encoded data removed]",
            "text/plain": [
              "<Figure size 1296x1296 with 5 Axes>"
            ]
          },
          "metadata": {},
          "output_type": "display_data"
        }
      ],
      "source": [
        "# show some random (real) faces from our dataset\n",
        "\n",
        "plt.figure(figsize=[18, 18])\n",
        "plt.axis('off');\n",
        "\n",
        "for i in range(5):\n",
        "  plt.subplot(1,5,i+1)\n",
        "  plt.imshow(data[np.random.randint(data.shape[0])], cmap=\"gray\", interpolation=\"none\")\n"
      ]
    },
    {
      "cell_type": "code",
      "execution_count": null,
      "metadata": {
        "colab": {
          "background_save": true
        },
        "id": "PuCdxa1wGT2K"
      },
      "outputs": [],
      "source": [
        "import tensorflow as tf\n",
        "\n",
        "# Please don't run tensorfow without this config. Without it you'll take the whole memory of the GPU\n",
        "# and make it unusable by anyone else\n",
        "#gpu_options = tf.GPUOptions(allow_growth=True)\n",
        "#sess = tf.InteractiveSession(config=tf.ConfigProto(gpu_options=gpu_options))\n",
        "# Edit: for colab, resources are limited on the server-side. Go hog.\n",
        "sess = tf.compat.v1.InteractiveSession()\n",
        "\n",
        "tf.compat.v1.disable_eager_execution()\n",
        "#tf.compat.v1.disable_v2_behavior()\n",
        "\n",
        "\n",
        "import keras\n",
        "from keras.models import Sequential\n",
        "from keras import layers as L\n",
        "from functools import partial"
      ]
    },
    {
      "cell_type": "code",
      "execution_count": null,
      "metadata": {
        "colab": {
          "background_save": true
        },
        "id": "fJEchmd_VM9b"
      },
      "outputs": [],
      "source": [
        "# If we can't tell good faces from bad, we delegate it to yet another neural network!\n",
        "# That makes two of them:\n",
        "# Generator - takes random noise for inspiration and tries to generate a face sample.\n",
        "# Let's call him G(z), where z is a gaussian noize.\n",
        "# Discriminator - takes a face sample and tries to tell if it's real or fake.\n",
        "# Predicts the probability of input image being a real face\n",
        "# Let's call him D(x), x being an image.\n",
        "# D(x) is a prediction for real image and D(G(z)) is prediction for the face made by generator.\n",
        "\n",
        "# Now it's your choise which GAN to build: Jensen-Shannon, or Wasserstein \n",
        "# In addition to the theoretical difference, a couple of practical matters: \n",
        "#  Jensen-Shannon GAN should learn several times faster, but is more sensitive to mode collapse and vanishing gradients. \n",
        "#  Wasserstein GAN doesn't go well in company of batch normalization and ELU activation.\n",
        "\n",
        "GAN_TYPE = \"Jensen-Shannon\"\n",
        "#GAN_TYPE = \"Wasserstein\"\n"
      ]
    },
    {
      "cell_type": "code",
      "execution_count": null,
      "metadata": {
        "colab": {
          "background_save": true
        },
        "id": "Lcqgo4RiVNwv",
        "outputId": "98510cc0-3f53-4409-dea6-6547d6778e9f"
      },
      "outputs": [
        {
          "name": "stderr",
          "output_type": "stream",
          "text": [
            "WARNING:tensorflow:From /usr/local/lib/python3.9/dist-packages/keras/layers/normalization/batch_normalization.py:561: _colocate_with (from tensorflow.python.framework.ops) is deprecated and will be removed in a future version.\n",
            "Instructions for updating:\n",
            "Colocations handled automatically by placer.\n"
          ]
        },
        {
          "name": "stdout",
          "output_type": "stream",
          "text": [
            "Model: \"Generator\"\n",
            "_________________________________________________________________\n",
            " Layer (type)                Output Shape              Param #   \n",
            "=================================================================\n",
            " dense (Dense)               (None, 640)               164480    \n",
            "                                                                 \n",
            " reshape (Reshape)           (None, 8, 8, 10)          0         \n",
            "                                                                 \n",
            " spatial_dropout2d (SpatialD  (None, 8, 8, 10)         0         \n",
            " ropout2D)                                                       \n",
            "                                                                 \n",
            " conv2d_transpose (Conv2DTra  (None, 12, 12, 64)       16064     \n",
            " nspose)                                                         \n",
            "                                                                 \n",
            " batch_normalization (BatchN  (None, 12, 12, 64)       256       \n",
            " ormalization)                                                   \n",
            "                                                                 \n",
            " conv2d_transpose_1 (Conv2DT  (None, 16, 16, 64)       102464    \n",
            " ranspose)                                                       \n",
            "                                                                 \n",
            " up_sampling2d (UpSampling2D  (None, 32, 32, 64)       0         \n",
            " )                                                               \n",
            "                                                                 \n",
            " conv2d_transpose_2 (Conv2DT  (None, 34, 34, 32)       18464     \n",
            " ranspose)                                                       \n",
            "                                                                 \n",
            " batch_normalization_1 (Batc  (None, 34, 34, 32)       128       \n",
            " hNormalization)                                                 \n",
            "                                                                 \n",
            " conv2d_transpose_3 (Conv2DT  (None, 36, 36, 32)       9248      \n",
            " ranspose)                                                       \n",
            "                                                                 \n",
            " batch_normalization_2 (Batc  (None, 36, 36, 32)       128       \n",
            " hNormalization)                                                 \n",
            "                                                                 \n",
            " conv2d_transpose_4 (Conv2DT  (None, 38, 38, 32)       9248      \n",
            " ranspose)                                                       \n",
            "                                                                 \n",
            " conv2d (Conv2D)             (None, 36, 36, 3)         867       \n",
            "                                                                 \n",
            "=================================================================\n",
            "Total params: 321,347\n",
            "Trainable params: 321,091\n",
            "Non-trainable params: 256\n",
            "_________________________________________________________________\n"
          ]
        }
      ],
      "source": [
        "# Make the Generator. \n",
        "#  It takes a random sample as input (size CODE_SIZE) and generates a face with FIGURE_SIZE output size.\n",
        "#  To enlarge from CODE_SIZE to FIGURE_SIZE (#pix_x by #pix_y by #rgb) you need to use \n",
        "#  some Deconvolution2D and UpSampling2D layers.\n",
        "\n",
        "CODE_SIZE = 256\n",
        "\n",
        "# Activations experimentally selected. Will most likely work\n",
        "# for other combinations of activations/architectures\n",
        "if GAN_TYPE == \"Wasserstein\":\n",
        "    generator_activation = partial(keras.activations.relu, alpha=0)\n",
        "elif GAN_TYPE == \"Jensen-Shannon\":\n",
        "    generator_activation = keras.activations.elu\n",
        "\n",
        "with tf.name_scope(\"Generator\"):\n",
        "    # A few Deconv layers. Feel free to add more, but that will make learning even slower\n",
        "    generator = Sequential(name=\"Generator\")\n",
        "    generator.add(L.InputLayer([CODE_SIZE],name='noise'))\n",
        "    generator.add(L.Dense(10*8*8, activation=generator_activation))\n",
        "\n",
        "    ### STUDENT CODE HERE ###\n",
        "    ### --> Write the network for the Generator.\n",
        "    ###  It takes a random sample as input (size CODE_SIZE) and generates a face with FIGURE_SIZE output size.\n",
        "    ###  To enlarge from CODE_SIZE to FIGURE_SIZE (#pix_x by #pix_y by #rgb) you need to use \n",
        "    ###  some Conv2DTranspose and UpSampling2D layers. \n",
        "    ###  Make sure to use the 'generator_activation' as activation.\n",
        "    ###  A typical network size has ~300,000 free parameters.\n",
        "    generator.add(L.Reshape((8,8,10)))\n",
        "    generator.add(L.SpatialDropout2D(0.5))\n",
        "    generator.add(L.Conv2DTranspose(64,kernel_size=(5,5),activation=generator_activation))\n",
        "    generator.add(L.BatchNormalization(momentum=0.5))\n",
        "    generator.add(L.Conv2DTranspose(64,kernel_size=(5,5),activation=generator_activation))\n",
        "    generator.add(L.UpSampling2D(size=(2,2)))\n",
        "    generator.add(L.Conv2DTranspose(32,kernel_size=3,activation=generator_activation))\n",
        "    generator.add(L.BatchNormalization(momentum=0.5))\n",
        "    generator.add(L.Conv2DTranspose(32,kernel_size=3,activation=generator_activation))\n",
        "    generator.add(L.BatchNormalization(momentum=0.5))\n",
        "    generator.add(L.Conv2DTranspose(32,kernel_size=3,activation=generator_activation))\n",
        "    ### END STUDENT CODE ###\n",
        "    ### END STUDENT CODE ###\n",
        "    \n",
        "    generator.add(L.Conv2D(3,kernel_size=3,activation=\"tanh\"))\n",
        "\n",
        "    assert generator.output_shape[1:] == IMG_SHAPE, \\\n",
        "    \"generator must output an image of shape %s, but instead it produces %s\" % \\\n",
        "        (IMG_SHAPE, generator.output_shape[1:])\n",
        "\n",
        "    generator.summary()"
      ]
    },
    {
      "cell_type": "code",
      "execution_count": null,
      "metadata": {
        "colab": {
          "background_save": true
        },
        "id": "rwfLGErCVXoL",
        "outputId": "f3d1f90f-f758-4080-8cec-c38b7f518118"
      },
      "outputs": [
        {
          "name": "stdout",
          "output_type": "stream",
          "text": [
            "Model: \"Discriminator\"\n",
            "_________________________________________________________________\n",
            " Layer (type)                Output Shape              Param #   \n",
            "=================================================================\n",
            " conv2d_1 (Conv2D)           (None, 34, 34, 32)        896       \n",
            "                                                                 \n",
            " conv2d_2 (Conv2D)           (None, 32, 32, 32)        9248      \n",
            "                                                                 \n",
            " conv2d_3 (Conv2D)           (None, 30, 30, 32)        9248      \n",
            "                                                                 \n",
            " max_pooling2d (MaxPooling2D  (None, 15, 15, 32)       0         \n",
            " )                                                               \n",
            "                                                                 \n",
            " conv2d_4 (Conv2D)           (None, 11, 11, 64)        51264     \n",
            "                                                                 \n",
            " conv2d_5 (Conv2D)           (None, 7, 7, 64)          102464    \n",
            "                                                                 \n",
            " max_pooling2d_1 (MaxPooling  (None, 3, 3, 64)         0         \n",
            " 2D)                                                             \n",
            "                                                                 \n",
            " spatial_dropout2d_1 (Spatia  (None, 3, 3, 64)         0         \n",
            " lDropout2D)                                                     \n",
            "                                                                 \n",
            " flatten (Flatten)           (None, 576)               0         \n",
            "                                                                 \n",
            " dense_1 (Dense)             (None, 256)               147712    \n",
            "                                                                 \n",
            " dense_2 (Dense)             (None, 2)                 514       \n",
            "                                                                 \n",
            "=================================================================\n",
            "Total params: 321,346\n",
            "Trainable params: 321,346\n",
            "Non-trainable params: 0\n",
            "_________________________________________________________________\n"
          ]
        }
      ],
      "source": [
        "# Make the Discriminator.\n",
        "\n",
        "# It is your usual convolutional network with interlooping convolution and pooling layers:\n",
        "#  It takes a figure as input, and a simple output to separate \"Yes\" (figure is real) and \"No\" (figure is fake)\n",
        "# The network does not include dropout/batchnorm to avoid learning complications.\n",
        "# We also regularize the pre-output layer to prevent discriminator from being too certain.\n",
        "\n",
        "discriminator_activation = partial(keras.activations.relu, alpha=0.3)\n",
        "\n",
        "with tf.name_scope(\"Discriminator\"):\n",
        "    discriminator = Sequential(name=\"Discriminator\")\n",
        "    discriminator.add(L.InputLayer(IMG_SHAPE))\n",
        "\n",
        "    ### STUDENT CODE HERE ###\n",
        "    ### Build the network for the Discriminator. \n",
        "    ### Typically described as 'Roughly the inverse of the generator'.\n",
        "    ### As the discriminator needs to learn complex features, a series of multiple Conv2D \n",
        "    ###  layers is recommended, alternated with some MaxPool2D layers to filter out the relevant kernels.\n",
        "    ### A final Flatten and Dense layer is recommended to learn the interesting combinations of kernels.\n",
        "    ### Be sure to use the discriminator_activation as activation for each layer.\n",
        "    ### A typical network has a size of ~400,000 free parameters.\n",
        "    discriminator.add(L.Conv2D(32,kernel_size=(3,3),activation=discriminator_activation))\n",
        "    discriminator.add(L.Conv2D(32,kernel_size=(3,3),activation=discriminator_activation))\n",
        "    discriminator.add(L.Conv2D(32,kernel_size=(3,3),activation=discriminator_activation))\n",
        "    discriminator.add(L.MaxPool2D(pool_size=(2,2)))\n",
        "    discriminator.add(L.Conv2D(64,kernel_size=(5,5),activation=discriminator_activation))\n",
        "    discriminator.add(L.Conv2D(64,kernel_size=(5,5),activation=discriminator_activation))\n",
        "    discriminator.add(L.MaxPool2D(pool_size=(2,2)))\n",
        "    discriminator.add(L.SpatialDropout2D(0.3))\n",
        "    discriminator.add(L.Flatten())\n",
        "    discriminator.add(L.Dense(256, activation=discriminator_activation))\n",
        "    #discriminator.add(L.BatchNormalization())  ##testing to standardize \n",
        "    ### END STUDENT CODE ###\n",
        "    \n",
        "    if GAN_TYPE == \"Wasserstein\":\n",
        "        # Wasserstein discriminator values are unconstrained\n",
        "        discriminator.add(L.Dense(1))\n",
        "    elif GAN_TYPE == \"Jensen-Shannon\":\n",
        "        # Jensen-Shannon expects probabilities\n",
        "        discriminator.add(L.Dense(2, activation=tf.nn.log_softmax))\n",
        "\n",
        "    discriminator.summary()"
      ]
    },
    {
      "cell_type": "code",
      "execution_count": null,
      "metadata": {
        "colab": {
          "background_save": true
        },
        "id": "9O-mJFIVWDzP"
      },
      "outputs": [],
      "source": [
        "# Helper function to create a shuffling image stream for training\n",
        "\n",
        "def get_tf_dataset(dataset, batch_size):\n",
        "    \"\"\"\n",
        "    Produces an infinite stram of Tensorflow batches from a numpy dataset. The dataset is shuffled every epoch.\n",
        "    Args:\n",
        "       dataset: np.array[n_examples, ...]\n",
        "       batch_size: int, batch size of the results\n",
        "    Reuturns:\n",
        "       Tensor, containing the next batch\n",
        "    \"\"\"\n",
        "    if isinstance(dataset, tf.Tensor):\n",
        "        N_EXAMPLES = dataset.shape[0]\n",
        "    else:\n",
        "        N_EXAMPLES = dataset[0].shape[0]\n",
        "    shuffler = tf.data.experimental.shuffle_and_repeat(N_EXAMPLES)\n",
        "    dataset_tf = tf.data.Dataset.from_tensor_slices(dataset)\n",
        "    suffled_ds = shuffler(dataset_tf)\n",
        "    #return suffled_ds.batch(batch_size).prefetch(1).make_one_shot_iterator().get_next()\n",
        "    return tf.compat.v1.data.make_one_shot_iterator( suffled_ds.batch(batch_size) ).get_next()\n"
      ]
    },
    {
      "cell_type": "code",
      "execution_count": null,
      "metadata": {
        "colab": {
          "background_save": true
        },
        "id": "mzBIUJVNWc8t",
        "outputId": "4e68db64-66b6-48da-c0f7-e0c3fa6f8c0c"
      },
      "outputs": [
        {
          "name": "stderr",
          "output_type": "stream",
          "text": [
            "WARNING:tensorflow:From <ipython-input-9-f2c47f3e446f>:16: shuffle_and_repeat (from tensorflow.python.data.experimental.ops.shuffle_ops) is deprecated and will be removed in a future version.\n",
            "Instructions for updating:\n",
            "Use `tf.data.Dataset.shuffle(buffer_size, seed)` followed by `tf.data.Dataset.repeat(count)`. Static tf.data optimizations will take care of using the fused implementation.\n"
          ]
        }
      ],
      "source": [
        "# Initialize training data setup.\n",
        "\n",
        "# Notes on strategy: we will train the two networks concurrently:\n",
        "#  - Train discriminator to better distinguish real data from current generator\n",
        "#  - Train generator to make discriminator think generator is real\n",
        "# Since discriminator is a differentiable neural network, we train both with gradient descent.\n",
        "# Training is done iteratively until discriminator is no longer able to find the difference (or until you run out of patience).\n",
        "# Tricks:\n",
        "# Train generator with adam to speed up training. Discriminator trains with SGD to avoid problems with momentum.\n",
        "# More: https://github.com/soumith/ganhacks\n",
        "\n",
        "# Obtain the training data faces stream for the discriminator\n",
        "train_batch_size = 100\n",
        "real_data = get_tf_dataset(data, train_batch_size)\n",
        "\n",
        "# Generate the noise data to be used in the generator training\n",
        "noise_batch_size = tf.compat.v1.placeholder(tf.int32, shape=[], name=\"noise_batch_size\")\n",
        "noise = tf.random.normal([noise_batch_size, CODE_SIZE], dtype=tf.float32, name=\"noise\")"
      ]
    },
    {
      "cell_type": "code",
      "execution_count": null,
      "metadata": {
        "colab": {
          "background_save": true
        },
        "id": "3wmhAaGiWjoE"
      },
      "outputs": [],
      "source": [
        "with tf.GradientTape() as disc_tape, tf.GradientTape() as gen_tape:\n",
        "\n",
        "  # Run data and noise through the networks\n",
        "  discriminator_real = discriminator(real_data)\n",
        "  generated_data = generator(noise)\n",
        "  discriminator_generated = discriminator(generated_data)\n",
        "\n",
        "  # Configure custom learning and loss details, specific to the GAN strategy type\n",
        "\n",
        "  if GAN_TYPE == \"Wasserstein\":\n",
        "    with tf.name_scope(\"gradient_loss\"):\n",
        "        alpha = tf.random.uniform(shape=[tf.shape(generated_data)[0], 1, 1, 1], minval=0., maxval=1.)\n",
        "        interpolates = alpha*real_data + ((1.-alpha)*generated_data)\n",
        "        disc_interpolates = discriminator(interpolates)\n",
        "        gradients = tf.gradients(disc_interpolates, [interpolates])[0]\n",
        "        slopes = tf.norm(tf.reshape(gradients, [tf.shape(gradients)[0], -1]), axis=1)\n",
        "        gradient_penalty = tf.reduce_mean(tf.square(slopes - 1.))\n",
        "    EMD_loss = tf.reduce_mean(discriminator_generated) - tf.reduce_mean(discriminator_real)\n",
        "    LAMBDA = 10.\n",
        "    discriminator_loss = EMD_loss + LAMBDA*gradient_penalty\n",
        "    generator_loss = -tf.reduce_mean(discriminator_generated)\n",
        "\n",
        "  if GAN_TYPE == \"Jensen-Shannon\":\n",
        "    logp_real = discriminator(real_data)\n",
        "    logp_gen = discriminator(generated_data)\n",
        "    discriminator_loss = -tf.reduce_mean(logp_real[:,1] + logp_gen[:,0])\n",
        "    generator_loss = -tf.reduce_mean(logp_gen[:,1])\n",
        "\n",
        "# Get gradients\n",
        "disc_grads = disc_tape.gradient(discriminator_loss, discriminator.trainable_weights)\n",
        "gen_grads  = gen_tape.gradient(generator_loss, generator.trainable_weights)\n",
        "\n",
        "# Define the optimizer for both networks.\n",
        "# The values below are rough suggestions aimed at not exploding a discriminator\n",
        "# of complexity roughly equal to the complexity of the generator.\n",
        "disc_learning_rate = 1e-3\n",
        "\n",
        "if GAN_TYPE == \"Wasserstein\":\n",
        "    # https://arxiv.org/pdf/1704.00028.pdf\n",
        "    #disc_optimizer = tf.keras.optimizers.Adam(disc_learning_rate, beta1=0, beta2=0.9).minimize(\n",
        "    #      discriminator_loss, var_list=discriminator.trainable_weights)\n",
        "    disc_optimizer = tf.keras.optimizers.Adam(disc_learning_rate, beta_1=0, beta_2=0.9).apply_gradients(\n",
        "        zip(disc_grads, discriminator.trainable_weights))\n",
        "elif GAN_TYPE == \"Jensen-Shannon\":\n",
        "    #disc_optimizer = tf.keras.optimizers.SGD(disc_learning_rate).minimize(\n",
        "    #    discriminator_loss, var_list=discriminator.trainable_weights)\n",
        "    disc_optimizer = tf.keras.optimizers.SGD(disc_learning_rate).apply_gradients(\n",
        "        zip(disc_grads, discriminator.trainable_weights))    \n",
        "\n",
        "\n",
        "if GAN_TYPE == \"Wasserstein\":\n",
        "    # https://arxiv.org/pdf/1704.00028.pdf\n",
        "    #gen_optimizer = tf.keras.optimizers.Adam(1e-4, beta1=0, beta2=0.9).minimize(\n",
        "    #    generator_loss, var_list=generator.trainable_weights)\n",
        "    gen_optimizer = tf.keras.optimizers.Adam(1e-4, beta_1=0, beta_2=0.9).apply_gradients(\n",
        "        zip(gen_grads, generator.trainable_weights))\n",
        "elif GAN_TYPE == \"Jensen-Shannon\":\n",
        "    #gen_optimizer = tf.keras.optimizers.Adam(1e-4).minimize(generator_loss, var_list=generator.trainable_weights)\n",
        "    gen_optimizer = tf.keras.optimizers.Adam(1e-4).apply_gradients(\n",
        "        zip(gen_grads, generator.trainable_weights))\n",
        "\n",
        "learning_summary = tf.compat.v1.summary.merge([\n",
        "    tf.compat.v1.summary.scalar(\"discriminator_loss\", discriminator_loss),\n",
        "    tf.compat.v1.summary.scalar(\"generator_loss\", generator_loss)\n",
        "])\n",
        "\n",
        "images_summary = tf.compat.v1.summary.image(\"generated_images\", generator(noise))\n"
      ]
    },
    {
      "cell_type": "code",
      "execution_count": null,
      "metadata": {
        "colab": {
          "background_save": true
        },
        "id": "UMhPM_fCZ1ES"
      },
      "outputs": [],
      "source": [
        "# initialize all variables.\n",
        "sess.run(tf.compat.v1.global_variables_initializer())"
      ]
    },
    {
      "cell_type": "code",
      "execution_count": null,
      "metadata": {
        "colab": {
          "background_save": true
        },
        "id": "eVVcyUnUaGMh"
      },
      "outputs": [],
      "source": [
        "# Define helper functions to evaluate the Gen. and Disc. over some data batches\n",
        "\n",
        "def sample_noise_batch(bsize):\n",
        "    # Get a new batch of noise samples\n",
        "    return np.random.normal(size=(bsize, CODE_SIZE)).astype('float32')\n",
        "\n",
        "def sample_data_batch(bsize):\n",
        "    # Get a batch of real faces\n",
        "    idxs = np.random.choice(np.arange(data.shape[0]), size=bsize)\n",
        "    return data[idxs]\n",
        "\n",
        "def sample_images(nrow,ncol, sharp=False):\n",
        "    # Let the generator create some faces from noise and show them\n",
        "    images = generator.predict(sample_noise_batch(bsize=nrow*ncol))\n",
        "    if np.var(images) != 0:\n",
        "        images = images.clip(np.min(data),np.max(data))\n",
        "    for i in range(nrow*ncol):\n",
        "        plt.subplot(nrow,ncol,i+1)\n",
        "        if sharp:\n",
        "            plt.imshow(images[i].reshape(IMG_SHAPE), cmap=\"gray\", interpolation=\"none\")\n",
        "        else:\n",
        "            plt.imshow(images[i].reshape(IMG_SHAPE), cmap=\"gray\")\n",
        "        plt.axis('off')\n",
        "\n",
        "def sample_probas(bsize):\n",
        "    # Let the discriminator predict 'True' or 'False' label for some real and some generated faces.\n",
        "    #  (note that this is actually a continuous number - a sort of 'probability')\n",
        "    fig, ax = plt.subplots()\n",
        "    ax.set_title('Generated vs real data')\n",
        "    ax.hist(discriminator.predict(sample_data_batch(bsize)).ravel(),\n",
        "             label='D(x)', alpha=0.5, density=True)\n",
        "    ax.hist(discriminator.predict(generator.predict(sample_noise_batch(bsize))).ravel(),\n",
        "             label='D(G(z))', alpha=0.5,  density=True)\n",
        "    ax.legend(loc='best')\n",
        "    return fig, ax"
      ]
    },
    {
      "cell_type": "code",
      "execution_count": null,
      "metadata": {
        "colab": {
          "background_save": true,
          "base_uri": "https://localhost:8080/",
          "height": 509
        },
        "id": "cz5LzfqtaKIt",
        "outputId": "92545fe1-60a1-4d76-fd31-59dda6123732"
      },
      "outputs": [
        {
          "data": {
            "image/png": "[encoded data removed]",
            "text/plain": [
              "<Figure size 432x288 with 6 Axes>"
            ]
          },
          "metadata": {},
          "output_type": "display_data"
        },
        {
          "data": {
            "image/png": "[encoded data removed]",
            "text/plain": [
              "<Figure size 432x288 with 1 Axes>"
            ]
          },
          "metadata": {},
          "output_type": "display_data"
        }
      ],
      "source": [
        "# Actual training\n",
        "\n",
        "from IPython import display\n",
        "import os\n",
        "\n",
        "LOGDIR = \"./\"\n",
        "MODEL_NAME = \"faces_GAN_%s_noreg_v1\" % GAN_TYPE\n",
        "MODEL_DIR = \"./\"\n",
        "os.makedirs(MODEL_DIR, exist_ok=True)\n",
        "MODEL_WEIGHTS_FILE =  os.path.join(MODEL_DIR, (\"%s.ckpt\" % MODEL_NAME))\n",
        "VALIDATION_INTERVAL = 50 # time between intermediate visual updates.\n",
        "TOTAL_ITERATIONS = int(5e3) # was 5e4 but colab takes too long \n",
        "# Number of discriminator training iterations per generator iteration\n",
        "# In our tests for discriminator of roughly as complexity as discriminator\n",
        "# 5 worked for both Wasserstein and Jensen–Shannon.\n",
        "DISCRIMINATOR_ITERATIONS = 5 \n",
        "\n",
        "# Save the intermediate weights, such that if our training gets interrupted,\n",
        "#  We don't have to restart from scratch.\n",
        "train_writer = tf.compat.v1.summary.FileWriter(os.path.join(LOGDIR, MODEL_NAME, \"train\"))\n",
        "train_writer.add_graph(tf.compat.v1.get_default_graph())\n",
        "weights_saver = tf.compat.v1.train.Saver()\n",
        "\n",
        "if(os.path.exists(MODEL_WEIGHTS_FILE)) :\n",
        "  try:\n",
        "    weights_saver.restore(sess, MODEL_WEIGHTS_FILE)\n",
        "  except (tf.errors.NotFoundError, tf.errors.InvalidArgumentError):\n",
        "    print(\"Can't restore parameters: no file with weights\")\n",
        "\n",
        "\n",
        "for epoch in range(TOTAL_ITERATIONS):\n",
        "    for i in range(DISCRIMINATOR_ITERATIONS):\n",
        "        # Train the discriminator\n",
        "        sess.run(disc_optimizer, {noise_batch_size: train_batch_size})\n",
        "    # Train the generator\n",
        "    summary, _ = sess.run([learning_summary, gen_optimizer], {noise_batch_size: train_batch_size})\n",
        "\n",
        "    # write the updated weights\n",
        "    train_writer.add_summary(summary, epoch)\n",
        "    \n",
        "    if epoch % VALIDATION_INTERVAL == 0:\n",
        "        # display intermediate status and some generated faces.\n",
        "        display.clear_output(wait=False)\n",
        "        weights_saver.save(sess, MODEL_WEIGHTS_FILE)\n",
        "        epoch_images_summary = sess.run(images_summary, {noise_batch_size: 3})\n",
        "        train_writer.add_summary(epoch_images_summary, epoch)\n",
        "        sample_images(2, 3, True)\n",
        "        fig, ax = sample_probas(1000)\n",
        "        ax.set_title((\"Epoch %i; \" % epoch) + ax.get_title())\n",
        "        plt.show()"
      ]
    },
    {
      "cell_type": "markdown",
      "source": [],
      "metadata": {
        "id": "Rpkw4vcEUSXN"
      }
    },
    {
      "cell_type": "code",
      "execution_count": null,
      "metadata": {
        "id": "H09ukireaN9R"
      },
      "outputs": [],
      "source": [
        "## Show us some generated faces after our training!\n",
        "plt.figure(figsize=[16, 24])\n",
        "sample_images(16, 8);"
      ]
    },
    {
      "cell_type": "markdown",
      "metadata": {
        "id": "CZA1SfAwzLzp"
      },
      "source": [
        "I had to wait 1-2hour every time for the code to run. It is very hard to make changements this way or to try new things. I was thus very limited but here are the changements that I  could have tried if having more time. \n",
        "- using Wasserstein instead of Jensen-Shannon: Wasserstein seemed to be better but asked a running time of minimum 2hours and I haven't been able to wait for that long. \n",
        "- using batch normalization more/less or before/after calling the activator: looks like there is no apparent changement\n",
        "- lowering batch size as larger batch size can lead to degradation in the quality of the model \n",
        "-  maximizing instead of minimising the log of predicted probability for the real/fake data (to calculate the loss)\n",
        "- lowering the learning rate as it may \"allow the model to learn a more optimal or even globally optimal set of weights\". This however would increase even more the training time. (source: https://machinelearningmastery.com/learning-rate-for-deep-learning-neural-networks/)\n",
        "- for the adam Optimizers it has been suggested changing learning rate and value of beta1 : \"We found the suggested learning rate of 0.001, to be too high, using 0.0002 instead. Additionally, we found leaving the momentum term β1 at the suggested value of 0.9 resulted in training oscillation and instability while reducing it to 0.5 helped stabilize training\" (source: https://arxiv.org/pdf/1511.06434.pdf)\n",
        "\n",
        "(running this took more than 2hours then collab collapsed so it is impossible for me to hand in a code already executed, maybe with collab pro this would be faster)"
      ]
    }
  ],
  "metadata": {
    "accelerator": "GPU",
    "colab": {
      "machine_shape": "hm",
      "provenance": [],
      "include_colab_link": true
    },
    "kernelspec": {
      "display_name": "Python 3",
      "language": "python",
      "name": "python3"
    },
    "language_info": {
      "codemirror_mode": {
        "name": "ipython",
        "version": 3
      },
      "file_extension": ".py",
      "mimetype": "text/x-python",
      "name": "python",
      "nbconvert_exporter": "python",
      "pygments_lexer": "ipython3",
      "version": "3.8.8"
    }
  },
  "nbformat": 4,
  "nbformat_minor": 0
}