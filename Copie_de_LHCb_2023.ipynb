{
  "cells": [
    {
      "cell_type": "markdown",
      "metadata": {
        "id": "view-in-github",
        "colab_type": "text"
      },
      "source": [
        "<a href=\"https://colab.research.google.com/github/martinaluyten/Analysis-of-Big-Data-in-Physics/blob/main/Copie_de_LHCb_2023.ipynb\" target=\"_parent\"><img src=\"https://colab.research.google.com/assets/colab-badge.svg\" alt=\"Open In Colab\"/></a>"
      ]
    },
    {
      "cell_type": "markdown",
      "metadata": {
        "id": "1JafiSIrvEKW"
      },
      "source": [
        "Welcome to Week 2!\n",
        "\n",
        "We will be focussing in Particle Physics Analysis and detecting matter/antimatter assymetries in the production of certain types of particles. ![LHCb detector](https://www1b.physik.rwth-aachen.de/~schael/LHCb_files/LHCB%20PREVIEW-white-bg.jpg)\n",
        "\n",
        "The data we are using comes from LHCb - one of the experiments at LHC. It is a highly specialised detector aimed at detecting decays involving the B-quark. Unlike the other major experiments, LHCb detects particles very close to the source and looks almost exclusively in the forward direction - this gives the detector many advantages compared to other experiments at LHC.\n",
        "\n",
        "In order to get started, we need to access the [ROOT framework](https://root.cern.ch/) and download some datafiles into this machine.\n",
        "."
      ]
    },
    {
      "cell_type": "code",
      "source": [
        "!wget https://github.com/MohamedElashri/HEP-ML/releases/download/ROOT/ROOT.tar.zip\n",
        "!unzip /content/ROOT.tar.zip\n",
        "!tar -xf  ROOT.tar\n",
        "!apt-get install git dpkg-dev cmake g++ gcc binutils libx11-dev libxpm-dev libxft-dev libxext-dev tar gfortran subversion libpython3.6 \n",
        "!pip install root_numpy # optional if you want to convert Trees to numpy arrays and other things like that\n",
        "#"
      ],
      "metadata": {
        "id": "km-dZcIY4t0Y"
      },
      "execution_count": null,
      "outputs": []
    },
    {
      "cell_type": "code",
      "execution_count": null,
      "metadata": {
        "id": "6h4cxIh3Bvwb"
      },
      "outputs": [],
      "source": [
        "from google.colab import drive\n",
        "drive.mount('/content/drive')"
      ]
    },
    {
      "cell_type": "code",
      "execution_count": 2,
      "metadata": {
        "id": "zC7znVqfPx3z"
      },
      "outputs": [],
      "source": [
        "import sys\n",
        "sys.path.append(\"/content/root_build/\")\n",
        "sys.path.append(\"/content/root_build/bin/\")\n",
        "sys.path.append(\"/content/root_build/include/\")\n",
        "sys.path.append(\"/content/root_build/lib/\")\n",
        "\n"
      ]
    },
    {
      "cell_type": "code",
      "execution_count": 3,
      "metadata": {
        "id": "COPyXIvbxqht",
        "colab": {
          "base_uri": "https://localhost:8080/"
        },
        "outputId": "f88a54f4-caa6-4c0d-e6bd-33c7cc36bf8c"
      },
      "outputs": [
        {
          "output_type": "execute_result",
          "data": {
            "text/plain": [
              "<CDLL '/content/root_build/lib/libFoam.so', handle 307fec0 at 0x7f8921665fd0>"
            ]
          },
          "metadata": {},
          "execution_count": 3
        }
      ],
      "source": [
        "import ctypes\n",
        "ctypes.cdll.LoadLibrary('/content/root_build/lib/libCore.so')\n",
        "ctypes.cdll.LoadLibrary('/content/root_build/lib/libThread.so')\n",
        "ctypes.cdll.LoadLibrary('/content/root_build/lib/libTreePlayer.so')\n",
        "ctypes.cdll.LoadLibrary('/content/root_build/lib/libImt.so')\n",
        "ctypes.cdll.LoadLibrary('/content/root_build/lib/libRIO.so')\n",
        "ctypes.cdll.LoadLibrary('/content/root_build/lib/libNet.so')\n",
        "ctypes.cdll.LoadLibrary('/content/root_build/lib/libTree.so')\n",
        "ctypes.cdll.LoadLibrary('/content/root_build/lib/libMathCore.so')\n",
        "ctypes.cdll.LoadLibrary('/content/root_build/lib/libMatrix.so')\n",
        "ctypes.cdll.LoadLibrary('/content/root_build/lib/libHist.so')\n",
        "ctypes.cdll.LoadLibrary('/content/root_build/lib/libGraf.so')\n",
        "ctypes.cdll.LoadLibrary('/content/root_build/lib/libGpad.so')\n",
        "ctypes.cdll.LoadLibrary('/content/root_build/lib/libGraf3d.so')\n",
        "ctypes.cdll.LoadLibrary('/content/root_build/lib/libMultiProc.so')\n",
        "ctypes.cdll.LoadLibrary('/content/root_build/lib/libMinuit.so')\n",
        "ctypes.cdll.LoadLibrary('/content/root_build/lib/libFoam.so')\n",
        "#ctypes.cdll.LoadLibrary('/content/root_build/lib/libPyROOT.so')"
      ]
    },
    {
      "cell_type": "code",
      "execution_count": 4,
      "metadata": {
        "id": "s2vh3GOm73bj",
        "colab": {
          "base_uri": "https://localhost:8080/"
        },
        "outputId": "13291192-9a35-4442-b386-1cbd9b1bd659"
      },
      "outputs": [
        {
          "output_type": "stream",
          "name": "stdout",
          "text": [
            "/usr/local/bin/python\n"
          ]
        }
      ],
      "source": [
        "!which python"
      ]
    },
    {
      "cell_type": "code",
      "execution_count": 5,
      "metadata": {
        "id": "QTVz7NQMyDCb",
        "colab": {
          "base_uri": "https://localhost:8080/",
          "height": 606
        },
        "outputId": "b4f77873-08d0-4c69-c3d7-33e2ed2cdc83"
      },
      "outputs": [
        {
          "output_type": "stream",
          "name": "stdout",
          "text": [
            "Welcome to JupyROOT 6.14/04\n"
          ]
        },
        {
          "output_type": "display_data",
          "data": {
            "image/png": "[encoded data removed]",
            "text/plain": [
              "<IPython.core.display.Image object>"
            ]
          },
          "metadata": {}
        }
      ],
      "source": [
        "#Now we can check if we have everything working as we expect: \n",
        "#Import brings the ROOT framework into our python environment.\n",
        "import ROOT\n",
        "#We define a 1 dimensional histogram, with 100 bins which ranges from -4 to +4\n",
        "h = ROOT.TH1F(\"gauss\",\"Example histogram\",100,-4,4)\n",
        "#Fill the histogram with gaussian (random) distribution\n",
        "h.FillRandom(\"gaus\")\n",
        "#make a Canvas (i.e. a drawing)\n",
        "c = ROOT.TCanvas(\"myCanvasName\",\"The Canvas Title\",800,600)\n",
        "#Draw my histogram\n",
        "h.Draw()\n",
        "#Show me the canvas\n",
        "c.Draw()"
      ]
    },
    {
      "cell_type": "markdown",
      "metadata": {
        "id": "VXW1M6XB0tXP"
      },
      "source": [
        "All being well - this should give no errors and we should have some kind of Gaussian distribution above.\n",
        "\n",
        "The next step is to get our data file - you can find it on Canvas here: https://canvas.maastrichtuniversity.nl/courses/12320/modules/items/450514\n",
        "\n",
        "Then upload it either directly or to your Google Drive and then mount this to your Colab environment"
      ]
    },
    {
      "cell_type": "code",
      "execution_count": 6,
      "metadata": {
        "id": "Co476pbmBvBB",
        "colab": {
          "base_uri": "https://localhost:8080/",
          "height": 591
        },
        "outputId": "42bb6d04-6fdf-460d-b022-2420ca502528"
      },
      "outputs": [
        {
          "output_type": "stream",
          "name": "stdout",
          "text": [
            "\n",
            "\u001b[1mRooFit v3.60 -- Developed by Wouter Verkerke and David Kirkby\u001b[0m \n",
            "                Copyright (C) 2000-2013 NIKHEF, University of California & Stanford University\n",
            "                All rights reserved, please read http://roofit.sourceforge.net/license.txt\n",
            "\n",
            "[#1] INFO:Eval -- RooTreeDataStore::loadValues(data) Ignored 3305238 out of range events\n"
          ]
        },
        {
          "output_type": "display_data",
          "data": {
            "image/png": "[encoded data removed]",
            "text/plain": [
              "<IPython.core.display.Image object>"
            ]
          },
          "metadata": {}
        }
      ],
      "source": [
        "#Since we need to use ROOT, we must first import this into Python:\n",
        "import ROOT\n",
        "#Then we open the ROOT file using the TFile command. - note you need to make this file path correct for your own setup!\n",
        "f = ROOT.TFile.Open(\"/content/drive/MyDrive/B2HHH_MagnetUp.root\", \"READONLY\")\n",
        "#From our file, we have to extract the DecayTree \n",
        "tree=f.Get(\"DecayTree\")\n",
        "#Now we can grab some variables as a test:\n",
        "ymomentum = ROOT.RooRealVar(\"H1_PY\",\"H1 Y Momentum\",-3000,3000,\"MeV/c\")\n",
        "xmomentum = ROOT.RooRealVar(\"H1_PX\",\"H1 X Momentum\",-3000,3000,\"MeV/c\")\n",
        "zmomentum = ROOT.RooRealVar(\"H1_PZ\",\"H1 Z Momentum\",-3000,3000,\"MeV/c\")\n",
        "# We then create a dataset for us to play with\n",
        "data = ROOT.RooDataSet(\"data\",\"data set\", tree, ROOT.RooArgSet(xmomentum,ymomentum,zmomentum), \"1==1\")\n",
        "# Now we create a canvas, plot our data onto the canvas and draw it:\n",
        "c = ROOT.TCanvas(\"c\",\"c\")\n",
        "frame = xmomentum.frame()\n",
        "data.plotOn(frame)\n",
        "frame.Draw()\n",
        "c.Draw()"
      ]
    },
    {
      "cell_type": "markdown",
      "metadata": {
        "id": "4e4n4iS3IJZi"
      },
      "source": [
        "#Why are we here?\n",
        "\n",
        "This week is about finding out something about one of the fundemental questions in physics. Why do we have \"stuff\".\n",
        "\n",
        "According to many of our models, and according to many measurements in particle physics, matter and anti-matter appear to be produced in equal quantities.\n",
        "\n",
        "However, when one looks at the Universe in general, we have more matter than anti-matter left - so there need to be some processes where anti-matter and matter are not produced equally. You can find out more about the Matter/Anti-Matter Asymmetry [here](http://press.web.cern.ch/backgrounders/matterantimatter-asymmetry)\n",
        "\n",
        "One place we look for this asymetry is in [charge-partity (CP) violation](https://www.symmetrymagazine.org/article/october-2005/explain-it-in-60-seconds) in particle physics processes. This essentially says that the processes that happen in the anti-particle version of a decay do not **exactly** match to the processes that happen in the particle version of the decay.\n",
        "\n",
        "\n",
        "\n",
        "---\n",
        "\n",
        "\n",
        "\n",
        "At LHCb, we produce both particle of the  B<sup>+</sup> meson and it's antiparticle the B<sup>-</sup> meson.\n",
        "\n",
        "We cannot detect these mesons directly. They decay into other things before we have a chance to measure them properly. So we collect data on the decay products, often called daughter particles. There are 524 [documented](http://pdg.lbl.gov/2014/listings/rpp2014-list-B-plus-minus.pdf) ways that the B<sup>+/-</sup> decays into various combinations. In order to simplify the process, we choose decay combinations that are convenient or have particular properties.\n",
        "\n",
        "In this analysis, we will take the process:-\n",
        "\n",
        "B<sup>+</sup>->K<sup>+</sup> + K<sup>+</sup>  + K<sup>-</sup>\n",
        "\n",
        "or\n",
        "\n",
        "B<sup>-</sup>->K<sup>-</sup> + K<sup>-</sup>  + K<sup>+</sup>\n",
        "\n",
        "\n",
        "To do so, we are given the following data for each event in our system:-\n",
        "\n",
        "![alt text](https://raw.githubusercontent.com/lhcb/opendata-project/80d64a3796e593fc8f9b257e85f32ae2e54f131f/Images/Variables.png)\n",
        "\n",
        "Here, H1 is the detected daughter particle (so a Kaon or a Pion), **not** the B-meson - the mother particle. Normally we would have to do some reconstruction from the decay products (the Daughters) to the Mother to be able to make some conclusions.\n",
        "\n",
        "Let's get started with working with this data:"
      ]
    },
    {
      "cell_type": "code",
      "execution_count": 7,
      "metadata": {
        "id": "lsz7569bvKNY",
        "colab": {
          "base_uri": "https://localhost:8080/"
        },
        "outputId": "a1038406-937c-4410-9799-d5dcff47878d"
      },
      "outputs": [
        {
          "output_type": "stream",
          "name": "stdout",
          "text": [
            "Looking in indexes: https://pypi.org/simple, https://us-python.pkg.dev/colab-wheels/public/simple/\n",
            "Requirement already satisfied: uproot in /usr/local/lib/python3.8/dist-packages (5.0.3)\n",
            "Requirement already satisfied: awkward in /usr/local/lib/python3.8/dist-packages (2.0.8)\n",
            "Requirement already satisfied: lz4 in /usr/local/lib/python3.8/dist-packages (4.3.2)\n",
            "Requirement already satisfied: xxhash in /usr/local/lib/python3.8/dist-packages (3.2.0)\n",
            "Requirement already satisfied: numpy in /usr/local/lib/python3.8/dist-packages (from uproot) (1.22.4)\n",
            "Requirement already satisfied: packaging in /usr/local/lib/python3.8/dist-packages (from uproot) (23.0)\n",
            "Requirement already satisfied: importlib-resources in /usr/local/lib/python3.8/dist-packages (from awkward) (5.12.0)\n",
            "Requirement already satisfied: typing-extensions>=4.1.0 in /usr/local/lib/python3.8/dist-packages (from awkward) (4.5.0)\n",
            "Requirement already satisfied: awkward-cpp==9 in /usr/local/lib/python3.8/dist-packages (from awkward) (9)\n",
            "Requirement already satisfied: zipp>=3.1.0 in /usr/local/lib/python3.8/dist-packages (from importlib-resources->awkward) (3.14.0)\n",
            "name                 | typename                 | interpretation                \n",
            "---------------------+--------------------------+-------------------------------\n",
            "B_FlightDistance     | double                   | AsDtype('>f8')\n",
            "B_VertexChi2         | double                   | AsDtype('>f8')\n",
            "H1_PX                | double                   | AsDtype('>f8')\n",
            "H1_PY                | double                   | AsDtype('>f8')\n",
            "H1_PZ                | double                   | AsDtype('>f8')\n",
            "H1_ProbK             | double                   | AsDtype('>f8')\n",
            "H1_ProbPi            | double                   | AsDtype('>f8')\n",
            "H1_Charge            | int32_t                  | AsDtype('>i4')\n",
            "H1_IPChi2            | double                   | AsDtype('>f8')\n",
            "H1_isMuon            | int32_t                  | AsDtype('>i4')\n",
            "H2_PX                | double                   | AsDtype('>f8')\n",
            "H2_PY                | double                   | AsDtype('>f8')\n",
            "H2_PZ                | double                   | AsDtype('>f8')\n",
            "H2_ProbK             | double                   | AsDtype('>f8')\n",
            "H2_ProbPi            | double                   | AsDtype('>f8')\n",
            "H2_Charge            | int32_t                  | AsDtype('>i4')\n",
            "H2_IPChi2            | double                   | AsDtype('>f8')\n",
            "H2_isMuon            | int32_t                  | AsDtype('>i4')\n",
            "H3_PX                | double                   | AsDtype('>f8')\n",
            "H3_PY                | double                   | AsDtype('>f8')\n",
            "H3_PZ                | double                   | AsDtype('>f8')\n",
            "H3_ProbK             | double                   | AsDtype('>f8')\n",
            "H3_ProbPi            | double                   | AsDtype('>f8')\n",
            "H3_Charge            | int32_t                  | AsDtype('>i4')\n",
            "H3_IPChi2            | double                   | AsDtype('>f8')\n",
            "H3_isMuon            | int32_t                  | AsDtype('>i4')\n"
          ]
        }
      ],
      "source": [
        "#installing uproot to decrease crashes\n",
        "!pip install uproot awkward lz4 xxhash\n",
        "import uproot\n",
        "f=uproot.open (\"/content/drive/MyDrive/B2HHH_MagnetDown.root\")\n",
        "f.keys()\n",
        "#finding data with uproot\n",
        "f[\"DecayTree\"].show()\n",
        "#f[\"DecayTree/H1_PX\"].array()\n",
        "#f[\"DecayTree/H1_PX\"].array(library=\"pd\")"
      ]
    },
    {
      "cell_type": "code",
      "execution_count": 8,
      "metadata": {
        "id": "jD79mg3Lj6F0",
        "colab": {
          "base_uri": "https://localhost:8080/"
        },
        "outputId": "b5b761b8-c6d5-4d80-993f-b8aa2f599967"
      },
      "outputs": [
        {
          "output_type": "stream",
          "name": "stdout",
          "text": [
            "Looking in indexes: https://pypi.org/simple, https://us-python.pkg.dev/colab-wheels/public/simple/\n",
            "Requirement already satisfied: boost-histogram in /usr/local/lib/python3.8/dist-packages (1.3.2)\n",
            "Requirement already satisfied: numpy>=1.13.3 in /usr/local/lib/python3.8/dist-packages (from boost-histogram) (1.22.4)\n"
          ]
        }
      ],
      "source": [
        "#boost-histogram is installed for plotting\n",
        "!pip install boost-histogram"
      ]
    },
    {
      "cell_type": "markdown",
      "metadata": {
        "id": "LOhfj7kfP-ao"
      },
      "source": [
        "For our analysis, the momentum of each of the daughter particles is split into the three cartesian components. We have combined these into a variable called H1_Ptot"
      ]
    },
    {
      "cell_type": "markdown",
      "source": [
        "1. Total momentum of the three daugthers particles\n",
        "With P(tot)=sqrt(P(x)^2+P(y)^2+P(z)^2)\n"
      ],
      "metadata": {
        "id": "7OnoFEIS7cJL"
      }
    },
    {
      "cell_type": "code",
      "execution_count": 9,
      "metadata": {
        "id": "Y4keyoyTPjsK",
        "colab": {
          "base_uri": "https://localhost:8080/",
          "height": 868
        },
        "outputId": "46ad3b51-2636-400f-91c5-5d18505044c8"
      },
      "outputs": [
        {
          "output_type": "execute_result",
          "data": {
            "text/plain": [
              "Text(0, 0.5, 'Number of events')"
            ]
          },
          "metadata": {},
          "execution_count": 9
        },
        {
          "output_type": "display_data",
          "data": {
            "text/plain": [
              "<Figure size 432x288 with 1 Axes>"
            ],
            "image/png": "[encoded data removed]"
          },
          "metadata": {
            "needs_background": "light"
          }
        },
        {
          "output_type": "display_data",
          "data": {
            "text/plain": [
              "<Figure size 432x288 with 1 Axes>"
            ],
            "image/png": "[encoded data removed]"
          },
          "metadata": {
            "needs_background": "light"
          }
        },
        {
          "output_type": "display_data",
          "data": {
            "text/plain": [
              "<Figure size 432x288 with 1 Axes>"
            ],
            "image/png": "[encoded data removed]"
          },
          "metadata": {
            "needs_background": "light"
          }
        }
      ],
      "source": [
        "#Here make a plot of the Total momentum of each of the three daughters:\n",
        "\n",
        "#import numpy as np\n",
        "import math\n",
        "from numpy import sqrt \n",
        "#import ROOT\n",
        "import uproot\n",
        "from matplotlib import pyplot as plt\n",
        "import boost_histogram as bh\n",
        "\n",
        "#WITH ROOTS\n",
        "#f = ROOT.TFile.Open(\"/content/drive/MyDrive/B2HHH_MagnetUp.root\", \"READONLY\")\n",
        "#tree=f.Get(\"DecayTree\")\n",
        "#tree.Show(1)\n",
        "#tree.SetName(\"tree\")\n",
        "#canvas1 = ROOT.TCanvas(\"Canvas\")\n",
        "#bins = \"100\"\n",
        "#histogram1 = ROOT.TH1F(\"TotP1\",\"Total Momentum1\", int(bins),0,30000)\n",
        "#tree.Draw(\"sqrt((H1_PX**2)+(H1_PY**2)+(H1_PZ**2))>>TotP1(\"+bins+\",0,30000\")\n",
        "#histogram1=ROOT.gDirectory.Get(\"TotP1\")\n",
        "#histogram1.Draw()\n",
        "#canvas1.Update()\n",
        "#canvas1.Draw()\n",
        "\n",
        "#WITH UPROOT\n",
        "#daughter particle 1\n",
        "H1_PX = f[\"DecayTree//H1_PX\"].array()\n",
        "H1_PY = f[\"DecayTree//H1_PY\"].array()\n",
        "H1_PZ = f[\"DecayTree//H1_PZ\"].array()\n",
        "H1_Ptot = sqrt((H1_PX**2)+(H1_PY**2)+(H1_PZ**2))\n",
        "\n",
        "plt.figure(1)\n",
        "histPtot1 = bh.Histogram(bh.axis.Regular(300,0,300000))\n",
        "histPtot1.fill(H1_Ptot)\n",
        "plt.bar(histPtot1.axes[0].centers, histPtot1.values(), width=histPtot1.axes[0].widths)\n",
        "plt.title('H1 Total Momentum')\n",
        "plt.xlabel('Total Momentum [MeV/c^2]')\n",
        "plt.ylabel('Number of events')\n",
        "\n",
        "#daughter particle 2\n",
        "H2_PX = f[\"DecayTree//H2_PX\"].array()\n",
        "H2_PY = f[\"DecayTree//H2_PY\"].array()\n",
        "H2_PZ = f[\"DecayTree//H2_PZ\"].array()\n",
        "H2_Ptot = sqrt((H2_PX**2)+(H2_PY**2)+(H2_PZ**2))\n",
        "\n",
        "plt.figure(2)\n",
        "histPtot2 = bh.Histogram(bh.axis.Regular(300,0,300000))\n",
        "histPtot2.fill(H2_Ptot)\n",
        "plt.bar(histPtot2.axes[0].centers, histPtot2.values(), histPtot2.axes[0].widths)\n",
        "plt.title('H2 Total Momentum')\n",
        "plt.xlabel('Total Momentum [MeV/c^2]')\n",
        "plt.ylabel('Number of events')\n",
        "\n",
        "#daughter particle 3\n",
        "H3_PX = f[\"DecayTree//H3_PX\"].array()\n",
        "H3_PY = f[\"DecayTree//H3_PY\"].array()\n",
        "H3_PZ = f[\"DecayTree//H3_PZ\"].array()\n",
        "H3_Ptot = sqrt((H3_PX**2)+(H3_PY**2)+(H3_PZ**2))\n",
        "\n",
        "plt.figure(3)\n",
        "histPtot3 = bh.Histogram(bh.axis.Regular(300,0,300000))\n",
        "histPtot3.fill(H3_Ptot)\n",
        "plt.bar(histPtot3.axes[0].centers, histPtot3.values(), histPtot3.axes[0].widths)\n",
        "plt.title('H3 Total Momentum')\n",
        "plt.xlabel('Total Momentum [MeV/c^2]')\n",
        "plt.ylabel('Number of events')"
      ]
    },
    {
      "cell_type": "markdown",
      "metadata": {
        "id": "C1lXLMCoR1Gi"
      },
      "source": [
        "Now plot the total momentum for the mother (M_Ptot):"
      ]
    },
    {
      "cell_type": "markdown",
      "source": [
        "# Total Momentum of the Mother Particle\n",
        "Calculated with P(tot)=sqrt((H1(Px)+H2(Px)+H3(Px))^2+(H1(Py)+H2(Py)+H3(Py))^2+(H1(Pz)+H2(Pz)+H3(Pz))^2)"
      ],
      "metadata": {
        "id": "13oMvbAtUF42"
      }
    },
    {
      "cell_type": "code",
      "execution_count": 10,
      "metadata": {
        "id": "6kdbiNpPR1QG",
        "colab": {
          "base_uri": "https://localhost:8080/",
          "height": 312
        },
        "outputId": "26a3c6a0-5936-45b2-a087-1119abf954c2"
      },
      "outputs": [
        {
          "output_type": "execute_result",
          "data": {
            "text/plain": [
              "Text(0, 0.5, 'Number of events')"
            ]
          },
          "metadata": {},
          "execution_count": 10
        },
        {
          "output_type": "display_data",
          "data": {
            "text/plain": [
              "<Figure size 432x288 with 1 Axes>"
            ],
            "image/png": "[encoded data removed]"
          },
          "metadata": {
            "needs_background": "light"
          }
        }
      ],
      "source": [
        "#use the histogram plotting tools, plot the momentum of the mother\n",
        "histPtotM = bh.Histogram(bh.axis.Regular(300,0,300000))\n",
        "MPtot = sqrt((H1_PX+H2_PX+H3_PX)**2+(H1_PY+H2_PY+H3_PY)**2+(H1_PZ+H2_PZ+H3_PZ)**2)\n",
        "\n",
        "histPtotM.fill(MPtot)\n",
        "plt.bar(histPtotM.axes[0].centers, histPtotM.values(), histPtotM.axes[0].widths)\n",
        "plt.title('Mother Total Momentum')\n",
        "plt.xlabel('Total Momentum [MeV/c^2]')\n",
        "plt.ylabel('Number of events')"
      ]
    },
    {
      "cell_type": "markdown",
      "metadata": {
        "id": "w3sqwtNTUEJd"
      },
      "source": [
        "We have now completed the initial steps and begun to work through what we need to with the data. This is a perfect moment to take a coffee!"
      ]
    },
    {
      "cell_type": "markdown",
      "metadata": {
        "id": "6RhWWqt3a8_e"
      },
      "source": [
        "Having discovered all of the relevant information about our daughter particles, we need to combine the measurements about them into a single mother - which will be our B<sup>+</sup> or our B<sup>-</sup>\n",
        "\n",
        "Having found our momentum and energy, we can use these quantities to find our experimental mass (not the theoretical mass as we have used for the reconstruction).\n",
        "\n",
        "When we calculate this, we will get a distribution of masses. This is due to errors in the measurements made either by the detector, or in the experiment itself. We hope to have a reasonably narrow peak to work with, but, sometimes this is not possible.\n",
        "\n",
        "Additionally there will be other particles in the detector - which means our daughters might have come from two or even three different processes. Events which don't come from the same process will give a higher or lower mass than we are looking for. This is typically called the *background* while events which come from our event of interest are called the *signal*"
      ]
    },
    {
      "cell_type": "code",
      "execution_count": 11,
      "metadata": {
        "id": "onr7-8CMbbFf",
        "colab": {
          "base_uri": "https://localhost:8080/",
          "height": 312
        },
        "outputId": "a87ac520-b432-42e0-c1fa-c5cfe6bbd0c8"
      },
      "outputs": [
        {
          "output_type": "execute_result",
          "data": {
            "text/plain": [
              "Text(0, 0.5, 'Number of events')"
            ]
          },
          "metadata": {},
          "execution_count": 11
        },
        {
          "output_type": "display_data",
          "data": {
            "text/plain": [
              "<Figure size 432x288 with 1 Axes>"
            ],
            "image/png": "[encoded data removed]"
          },
          "metadata": {
            "needs_background": "light"
          }
        }
      ],
      "source": [
        "#Now plot a histogram of the range of masses of the B meson.\n",
        "from numpy import sqrt\n",
        "from numpy import square \n",
        "\n",
        "mKaon = 493.677\n",
        "\n",
        "E1=sqrt(H1_Ptot**2+mKaon**2)\n",
        "E2=sqrt(H2_Ptot**2+mKaon**2)\n",
        "E3=sqrt(H3_Ptot**2+mKaon**2)\n",
        "massM=sqrt(((E1+E2+E3)**2)-square(MPtot))\n",
        "\n",
        "histMassM = bh.Histogram(bh.axis.Regular(500,5000,6500))\n",
        "histMassM.fill(massM)\n",
        "plt.bar(histMassM.axes[0].centers, histMassM.values(), histMassM.axes[0].widths)\n",
        "plt.title('Range of masses of the B meson')\n",
        "plt.xlabel('mass [MeV/c^2]')\n",
        "plt.ylabel('Number of events')"
      ]
    },
    {
      "cell_type": "markdown",
      "source": [
        "# **Does this match what we would expect from theory?**\n",
        "The masses of the B meson range from around 5100 to 6200MeV/c^2 with a peak around 5400MeV/c^2. This is already a good approximation compared to the mass of the B meson which is around 5280Mev/c^2.\n",
        "___________________________________________________________\n"
      ],
      "metadata": {
        "id": "x0zLxQcsrmAP"
      }
    },
    {
      "cell_type": "markdown",
      "metadata": {
        "id": "MWGFKFnXb0RP"
      },
      "source": [
        "We know that some of our particles are the B+ and some are the B- particle. There will also be some particles in our system that are not coming from a genuine B+/- or are a B+/- but are not constructed from Kaons.\n",
        "\n",
        "We have some tools available to help:-\n",
        "\n",
        "  *  During detection, software attributes the probability of a particle being a Kaon or a Pion (in the H1_ProbK or H1_ProbPi variable)\n",
        "  * The detector also knows if the particle was a Muon - since it has detectors specifically for these. So it can attribute a 0 or a 1 to this probability\n",
        "  * The reconstructed vertex has a some kind of quality associated with it (we call this the Vertex χ2 (this is the variable B_VertexChi2). This is the statistical measure that determines how well we found a single point to be the source of all three particles.\n",
        "\n"
      ]
    },
    {
      "cell_type": "markdown",
      "metadata": {
        "id": "fEpnSmH4b9HZ"
      },
      "source": [
        "In order to get a better result, we should select our data to have the properties we desire and make some rules (often called a selection) to cut away data we don't want to include for various reasons. e.g. we know we don't have any muons in our decay - so any time H1/H2/H3 are a muon they should be excluded. The other variables are not so clear - so we can plot them to make a decision."
      ]
    },
    {
      "cell_type": "code",
      "source": [
        "#other for plotting \n",
        "#!pip install hist"
      ],
      "metadata": {
        "id": "YIttrOBl0YUZ"
      },
      "execution_count": 12,
      "outputs": []
    },
    {
      "cell_type": "code",
      "execution_count": 13,
      "metadata": {
        "id": "k0vikJp0cAvv",
        "colab": {
          "base_uri": "https://localhost:8080/",
          "height": 851
        },
        "outputId": "bd4aa822-436c-4e76-8c5e-bf814e4bb12c"
      },
      "outputs": [
        {
          "output_type": "display_data",
          "data": {
            "text/plain": [
              "<Figure size 432x288 with 1 Axes>"
            ],
            "image/png": "[encoded data removed]"
          },
          "metadata": {
            "needs_background": "light"
          }
        },
        {
          "output_type": "display_data",
          "data": {
            "text/plain": [
              "<Figure size 432x288 with 1 Axes>"
            ],
            "image/png": "[encoded data removed]"
          },
          "metadata": {
            "needs_background": "light"
          }
        },
        {
          "output_type": "display_data",
          "data": {
            "text/plain": [
              "<Figure size 432x288 with 1 Axes>"
            ],
            "image/png": "[encoded data removed]"
          },
          "metadata": {
            "needs_background": "light"
          }
        }
      ],
      "source": [
        "#Make plots of H1/H2/H3 _ProbK on one plot\n",
        "H1_ProbK = f[\"DecayTree//H1_ProbK\"].array()\n",
        "H2_ProbK = f[\"DecayTree//H2_ProbK\"].array()\n",
        "H3_ProbK = f[\"DecayTree//H3_ProbK\"].array()\n",
        "plt.hist([H1_ProbK,H2_ProbK,H3_ProbK],300,(0,1),histtype='step')\n",
        "plt.title(\"Probability of H1, H2, H3 being a Kaon\")\n",
        "plt.ylabel(\"Number of events \")\n",
        "plt.xlabel(\"Probability\")\n",
        "plt.legend(('H1','H2','H3'))\n",
        "plt.show()\n",
        "\n",
        "#Make plots of H1/H2/H3 _ProbPi on one plot\n",
        "H1_ProbPi = f[\"DecayTree//H1_ProbPi\"].array()\n",
        "H2_ProbPi = f[\"DecayTree//H2_ProbPi\"].array()\n",
        "H3_ProbPi = f[\"DecayTree//H3_ProbPi\"].array()\n",
        "plt.hist([H1_ProbPi,H2_ProbPi,H3_ProbPi],300,(0,1),histtype='step')\n",
        "plt.title(\"Probability of H1, H2, H3 being a Pion\")\n",
        "plt.ylabel(\"Number of events \")\n",
        "plt.xlabel(\"Probability\")\n",
        "plt.legend(('H1','H2','H3'))\n",
        "plt.show()\n",
        "\n",
        "#For all our particles, make a plot of the B_VertexChi2\n",
        "B_VertexChi2 = f[\"DecayTree//B_VertexChi2\"].array()\n",
        "plt.hist(B_VertexChi2,300,(0,13),histtype='step')\n",
        "plt.title(\"Vertex χ2\")\n",
        "plt.ylabel(\"Number of events \")\n",
        "plt.xlabel(\"χ2\")\n",
        "plt.show()"
      ]
    },
    {
      "cell_type": "markdown",
      "metadata": {
        "id": "DWmxBkZ0cDx1"
      },
      "source": [
        "Using these plots, we can now make a preselection string."
      ]
    },
    {
      "cell_type": "code",
      "execution_count": 14,
      "metadata": {
        "id": "MxD7JMeicMu0",
        "colab": {
          "base_uri": "https://localhost:8080/",
          "height": 573
        },
        "outputId": "31bbc765-23f2-496a-efc8-fb4e12b87c1f"
      },
      "outputs": [
        {
          "output_type": "display_data",
          "data": {
            "text/plain": [
              "<Figure size 432x288 with 1 Axes>"
            ],
            "image/png": "[encoded data removed]"
          },
          "metadata": {
            "needs_background": "light"
          }
        },
        {
          "output_type": "display_data",
          "data": {
            "text/plain": [
              "<Figure size 432x288 with 1 Axes>"
            ],
            "image/png": "[encoded data removed]"
          },
          "metadata": {
            "needs_background": "light"
          }
        }
      ],
      "source": [
        "#To apply the selection - we can use the copytree command:\n",
        "#So now we take our data in tree and apply selection to it (so only events which comply with those rules are kept) and put the new data in CutTree\n",
        "\n",
        "selection = (\"(H1_ProbK>0.5)&(H2_ProbK>0.5)&(H3_ProbK>0.5)&(H1_isMuon==0)&(H2_isMuon==0)&(H3_isMuon==0)\")\n",
        "cuttree = f[\"DecayTree\"].arrays(cut=selection)\n",
        "\n",
        "#plotting the new probabilities of H1,H2,H3 being a Kaon/Pion\n",
        "plt.hist([cuttree[\"H1_ProbK\"],cuttree[\"H2_ProbK\"],cuttree[\"H3_ProbK\"]],300,(0,1),histtype='step')\n",
        "plt.title(\"Probability of H1, H2, H3 being a Kaon after cut\")\n",
        "plt.ylabel(\"Number of events \")\n",
        "plt.xlabel(\"Probability\")\n",
        "plt.show()\n",
        "plt.hist([cuttree[\"H1_ProbPi\"],cuttree[\"H2_ProbPi\"],cuttree[\"H3_ProbPi\"]],300,(0,1),histtype='step')\n",
        "plt.title(\"Probability of H1, H2, H3 being a Pion after cut\")\n",
        "plt.ylabel(\"Number of events \")\n",
        "plt.xlabel(\"Probability\")\n",
        "plt.show()\n",
        "\n",
        "\n"
      ]
    },
    {
      "cell_type": "code",
      "execution_count": 15,
      "metadata": {
        "id": "hmmsoUwEcOir",
        "colab": {
          "base_uri": "https://localhost:8080/",
          "height": 312
        },
        "outputId": "b45c2800-8f05-41e9-b03e-498adcf2f743"
      },
      "outputs": [
        {
          "output_type": "execute_result",
          "data": {
            "text/plain": [
              "Text(0, 0.5, 'Number of events')"
            ]
          },
          "metadata": {},
          "execution_count": 15
        },
        {
          "output_type": "display_data",
          "data": {
            "text/plain": [
              "<Figure size 432x288 with 1 Axes>"
            ],
            "image/png": "[encoded data removed]"
          },
          "metadata": {
            "needs_background": "light"
          }
        }
      ],
      "source": [
        "#Now as a good check, we should see the effect of applying our cuts.\n",
        "#On one histogram, plot the B meson mass, from both the tree (pre-cuts) and the CutTree (post-cuts)\n",
        "\n",
        "H1_PtotP = sqrt((cuttree[\"H1_PX\"]**2)+(cuttree[\"H1_PY\"]**2)+(cuttree[\"H1_PZ\"]**2))\n",
        "H2_PtotP = sqrt((cuttree[\"H2_PX\"]**2)+(cuttree[\"H2_PY\"]**2)+(cuttree[\"H2_PZ\"]**2))\n",
        "H3_PtotP = sqrt((cuttree[\"H3_PX\"]**2)+(cuttree[\"H3_PY\"]**2)+(cuttree[\"H3_PZ\"]**2))\n",
        "\n",
        "E1_P=sqrt(H1_PtotP**2+mKaon**2)\n",
        "E2_P=sqrt(H2_PtotP**2+mKaon**2)\n",
        "E3_P=sqrt(H3_PtotP**2+mKaon**2)\n",
        "\n",
        "MPtot_P = sqrt((cuttree[\"H1_PX\"]+cuttree[\"H2_PX\"]+cuttree[\"H3_PX\"])**2+(cuttree[\"H1_PY\"]+cuttree[\"H2_PY\"]+cuttree[\"H3_PY\"])**2+(cuttree[\"H1_PZ\"]+cuttree[\"H2_PZ\"]+cuttree[\"H3_PZ\"])**2)\n",
        "\n",
        "massM_P=sqrt(((E1_P+E2_P+E3_P)**2)-square(MPtot_P))\n",
        "\n",
        "histMassM_P = bh.Histogram(bh.axis.Regular(500,5000,6500))\n",
        "histMassM_P.fill(massM_P)\n",
        "plt.bar(histMassM_P.axes[0].centers, histMassM_P.values(), histMassM_P.axes[0].widths)\n",
        "plt.title('Range of masses of the B meson after cut')\n",
        "plt.xlabel('mass [MeV/c^2]')\n",
        "plt.ylabel('Number of events')\n"
      ]
    },
    {
      "cell_type": "markdown",
      "source": [
        "# What do you notice about your histogram now?\n",
        "Only a peak around 5300 remained which is fact very close to the masses of the B+ and B- mesons."
      ],
      "metadata": {
        "id": "TTJ55FgysbrY"
      }
    },
    {
      "cell_type": "markdown",
      "metadata": {
        "id": "N1tResqvcMgQ"
      },
      "source": [
        "#How do we count the number of events?\n",
        "\n",
        "We now have a histogram of events that we have reconstructed as a B meson. But some of these events are caused by a co-incidence of events which would still occur if there were no B mesons actually produced. We call this the background. Background and signal are indistinguishable now as the detector cannot tell the difference and our cuts were unable to remove the events for physics reasons. We can do some statistical analysis, if we know the approximate shapes of our signal and our background. Just like a least-squares fitting we can run a fit routine to minimise the error between the fitted curve and our data. As an example, if we know our data has an exponential background and a gaussian signal:\n",
        "\n",
        "![Gaussian+Exp Background](https://twiki.cern.ch/twiki/pub/RooStats/RooStatsTutorialsJune2013/GausExpModelFit.png)\n",
        "\n",
        "Here the red line represents our signal, the blue dotted line is our background and the solid blue line is our combined curve. The graph also shows the number of signal events and the number of background events. The signal now is a tiny fraction of the total data shown in the plot.\n",
        "\n",
        "In order to do this, we need to build a fit model, around which the software can try to fit our data.\n",
        "\n",
        "We use RooFit for this, which includes:\n",
        "* Gaussian\n",
        "* Exponential\n",
        "* Chebychev\n",
        "* Crystal Ball\n",
        "* Breit-Wigner\n",
        "\n",
        "As well as several other choices.\n",
        "\n",
        "Typically exponential and Chebychev functions are used for background and Gaussian, Crystal Ball and Breit-Wigner are used for signal. We can also combine them (e.g. 1 crystal ball, 1 gaussian, 1 exponential) in various ways."
      ]
    },
    {
      "cell_type": "code",
      "execution_count": 16,
      "metadata": {
        "id": "R_7q_HY1qhiS"
      },
      "outputs": [],
      "source": [
        "#WITH ROOTS\n",
        "#define physical measurment that we want to fit using RooRealVar\n",
        "#var = ROOT.RooRealVar =(\"Variable from Python\", \"Nickname\",Min, Max, Units)\n",
        "#mass = ROOT.RooRealVar(\"MPot_P\",\"Mass\",4700,5900,\"MeV/C^{2}\")\n",
        "#passing the rest of the variables into the model\n",
        "#For the RooRealVar the last three parameters are given, \"starting value\" and min/max values\n",
        "#gaussMean = ROOT.RooRealVar(histMassM_P.axes[0].mean,\"Mean\",4800,4900,5900)\n",
        "#gaussWidth = ROOT.RooRealVar(\"Width\",\"Width\",40,0,7000)\n",
        "#gaussWidth = ROOT.RooRealVar(histMassM_P.axes[0].widths,\"Width\",40,0,7000)\n",
        "#Now we have enough to make our Model for the signal:\n",
        "#Gauss=ROOT.RooGaussian(\"Gaussian Signal\",\"Gauss\",mass,gaussMean,gaussWidth)\n",
        "#Gauss_Norm= ROOT.RooRealVar(\"Gauss_Norm\",\"Signal Yield\", tree.GetEntries()/30, 0, tree.GetEntries() * 3)\n",
        "#We also need a background, so let's use a (simple) exponential:\n",
        "#exponent=ROOT.RooRealVar(\"exponent\", \"C\", -0.02, -2, +2)\n",
        "#exp_Norm= ROOT.RooRealVar(\"exp_Norm\",\"Background Yield\", tree.GetEntries()/30, 0, tree.GetEntries() * 2)\n",
        "#Define the  model for the background:\n",
        "#Bkgnd=ROOT.RooExponential(\"Exponential Background\",\"Bkgnd\",mass,exponent)\n",
        "#Now we need to combine these two functions into a single PDF (probability density function)\n",
        "#and we need to add the normalisation factors at the end as scaling factors\n",
        "#model=ROOT.RooAddPdf(\"Full Model\",\"model\",ROOT.RooArgList(Gauss,Bkgnd),ROOT.RooArgList(Gauss_Norm, exp_Norm) )\n",
        "#Put our data set into a RooDataSet structure\n",
        "#data_to_fit=ROOT.RooDataSet(\"Data Set\",\"data_to_fit\", cuttree, ROOT.RooArgSet(mass))\n",
        "#Then we can do the fitting:\n",
        "#model.fitTo(data_to_fit)\n",
        "#if everything went well, you will see the outputs of RooFit below\n",
        "#Now to plot it all\n",
        "#c1=ROOT.TCanvas(\"c1\",\"c1\")\n",
        "#frame=mass.frame()\n",
        "#data_to_fit.plotOn(frame)\n",
        "#model.plotOn(frame, ROOT.RooFit.Components(\"Gauss\"),ROOT.RooFit.LineColor(8),ROOT.RooFit.LineStyle(2))\n",
        "#model.plotOn(frame, ROOT.RooFit.Components(\"Bkgnd\"),ROOT.RooFit.LineColor(46),ROOT.RooFit.LineStyle(2))\n",
        "#model.plotOn(frame)\n",
        "#frame.Draw()\n",
        "#c1.Update()"
      ]
    },
    {
      "cell_type": "code",
      "source": [
        "import math \n",
        "#from numpy import sqrt \n",
        "#from numpy import square\n",
        "import numpy as np\n",
        "import matplotlib.pyplot as plt\n",
        "import scipy.optimize\n",
        "from scipy.optimize import curve_fit\n",
        "\n",
        "\n",
        "#massM_P=sqrt(((E1_P+E2_P+E3_P)**2)-square(MPtot_P))\n",
        "\n",
        "#histMassM_P = bh.Histogram(bh.axis.Regular(500,5000,6500))\n",
        "#histMassM_P.fill(massM_P)\n",
        "#plt.bar(histMassM_P.axes[0].centers, histMassM_P.values(), histMassM_P.axes[0].widths)\n",
        "#plt.title('Range of masses of the B meson after cut')\n",
        "#plt.xlabel('mass [MeV/c^2]')\n",
        "#plt.ylabel('Number of events')\n",
        "\n",
        "#repeating variables as it keeps crashing\n",
        "#!pip install uproot awkward lz4 xxhash\n",
        "#import uproot\n",
        "#f=uproot.open (\"/content/drive/MyDrive/B2HHH_MagnetDown.root\")\n",
        "#f.keys()\n",
        "#selection = (\"(H1_ProbK>0.5)&(H2_ProbK>0.5)&(H3_ProbK>0.5)&(H1_isMuon==0)&(H2_isMuon==0)&(H3_isMuon==0)\")\n",
        "#cuttree = f[\"DecayTree\"].arrays(cut=selection)\n",
        "#H1_PtotP = sqrt((cuttree[\"H1_PX\"]**2)+(cuttree[\"H1_PY\"]**2)+(cuttree[\"H1_PZ\"]**2))\n",
        "#H2_PtotP = sqrt((cuttree[\"H2_PX\"]**2)+(cuttree[\"H2_PY\"]**2)+(cuttree[\"H2_PZ\"]**2))\n",
        "#H3_PtotP = sqrt((cuttree[\"H3_PX\"]**2)+(cuttree[\"H3_PY\"]**2)+(cuttree[\"H3_PZ\"]**2))\n",
        "#mKaon = 493.677\n",
        "#E1_P=sqrt(H1_PtotP**2+mKaon**2)\n",
        "#E2_P=sqrt(H2_PtotP**2+mKaon**2)\n",
        "#E3_P=sqrt(H3_PtotP**2+mKaon**2)\n",
        "#MPtot_P = sqrt((cuttree[\"H1_PX\"]+cuttree[\"H2_PX\"]+cuttree[\"H3_PX\"])**2+(cuttree[\"H1_PY\"]+cuttree[\"H2_PY\"]+cuttree[\"H3_PY\"])**2+(cuttree[\"H1_PZ\"]+cuttree[\"H2_PZ\"]+cuttree[\"H3_PZ\"])**2)\n",
        "#massM_P=sqrt(((E1_P+E2_P+E3_P)**2)-square(MPtot_P))\n",
        "\n",
        "#1\n",
        "def F_exp(x, m, t, b):\n",
        "    return m * np.exp(-t * x) + b\n",
        "\n",
        "ydata = np.random.normal(size=len(massM_P))\n",
        "\n",
        "popt, pcov = curve_fit(F_exp, massM_P, ydata, p0=[3,2,-16])   #error \"no field named 'dtype'\" that I couldn't resovle\n",
        "\n",
        "a_opt, b_opt, c_opt = popt\n",
        "x_model = np.linspace(min(massM_P), max(ydata), 100)\n",
        "y_model = F_exp(x_model, a_opt, b_opt, c_opt) \n",
        " \n",
        "plt.scatter(massM_P, ydata)\n",
        "plt.plot(x_model, y_model, color='r')\n",
        "plt.show()\n",
        "\n",
        "#2\n",
        "#def F_exp(x, m, t, b):\n",
        "    #return m * np.exp(-t * x) + b\n",
        "#fit = F_exp(massM_P,2.5, 1.3, 0.5)\n",
        "#ydata = fit + 0.2 * np.random.normal(size=len(massM_P))\n",
        "#popt, pcov = curve_fit(F_exp, massM_P, ydata) #error \"same error : \"no field named 'dtype'\"\n",
        "\n",
        "#plt.plot(massM_P, ydata, 'b-', label='data')\n",
        "#popt, pcov = curve_fit(F_exp, massM_P, ydata)\n",
        "#plt.plot(massM_P, F_exp(massM_P, *popt))\n",
        "#plt.xlabel('x')\n",
        "#plt.ylabel('y')\n",
        "#plt.legend()\n",
        "#plt.show()\n",
        "\n",
        "\n",
        "\n"
      ],
      "metadata": {
        "colab": {
          "base_uri": "https://localhost:8080/",
          "height": 368
        },
        "id": "ME9cL5toAZaF",
        "outputId": "5c9ff7ba-8f2b-4f43-a96c-f282c3eea1d5"
      },
      "execution_count": 23,
      "outputs": [
        {
          "output_type": "error",
          "ename": "TypeError",
          "evalue": "ignored",
          "traceback": [
            "\u001b[0;31m---------------------------------------------------------------------------\u001b[0m",
            "\u001b[0;31mTypeError\u001b[0m                                 Traceback (most recent call last)",
            "\u001b[0;32m<ipython-input-23-ba2f08813054>\u001b[0m in \u001b[0;36m<module>\u001b[0;34m\u001b[0m\n\u001b[1;32m     40\u001b[0m \u001b[0mydata\u001b[0m \u001b[0;34m=\u001b[0m \u001b[0mnp\u001b[0m\u001b[0;34m.\u001b[0m\u001b[0mrandom\u001b[0m\u001b[0;34m.\u001b[0m\u001b[0mnormal\u001b[0m\u001b[0;34m(\u001b[0m\u001b[0msize\u001b[0m\u001b[0;34m=\u001b[0m\u001b[0mlen\u001b[0m\u001b[0;34m(\u001b[0m\u001b[0mmassM_P\u001b[0m\u001b[0;34m)\u001b[0m\u001b[0;34m)\u001b[0m\u001b[0;34m\u001b[0m\u001b[0;34m\u001b[0m\u001b[0m\n\u001b[1;32m     41\u001b[0m \u001b[0;34m\u001b[0m\u001b[0m\n\u001b[0;32m---> 42\u001b[0;31m \u001b[0mpopt\u001b[0m\u001b[0;34m,\u001b[0m \u001b[0mpcov\u001b[0m \u001b[0;34m=\u001b[0m \u001b[0mcurve_fit\u001b[0m\u001b[0;34m(\u001b[0m\u001b[0mF_exp\u001b[0m\u001b[0;34m,\u001b[0m \u001b[0mmassM_P\u001b[0m\u001b[0;34m,\u001b[0m \u001b[0mydata\u001b[0m\u001b[0;34m,\u001b[0m \u001b[0mp0\u001b[0m\u001b[0;34m=\u001b[0m\u001b[0;34m[\u001b[0m\u001b[0;36m3\u001b[0m\u001b[0;34m,\u001b[0m\u001b[0;36m2\u001b[0m\u001b[0;34m,\u001b[0m\u001b[0;34m-\u001b[0m\u001b[0;36m16\u001b[0m\u001b[0;34m]\u001b[0m\u001b[0;34m,\u001b[0m\u001b[0mdtype\u001b[0m\u001b[0;34m=\u001b[0m\u001b[0mfloat\u001b[0m\u001b[0;34m)\u001b[0m\u001b[0;34m\u001b[0m\u001b[0;34m\u001b[0m\u001b[0m\n\u001b[0m\u001b[1;32m     43\u001b[0m \u001b[0;34m\u001b[0m\u001b[0m\n\u001b[1;32m     44\u001b[0m \u001b[0ma_opt\u001b[0m\u001b[0;34m,\u001b[0m \u001b[0mb_opt\u001b[0m\u001b[0;34m,\u001b[0m \u001b[0mc_opt\u001b[0m \u001b[0;34m=\u001b[0m \u001b[0mpopt\u001b[0m\u001b[0;34m\u001b[0m\u001b[0;34m\u001b[0m\u001b[0m\n",
            "\u001b[0;32m/usr/local/lib/python3.8/dist-packages/scipy/optimize/minpack.py\u001b[0m in \u001b[0;36mcurve_fit\u001b[0;34m(f, xdata, ydata, p0, sigma, absolute_sigma, check_finite, bounds, method, jac, **kwargs)\u001b[0m\n\u001b[1;32m    787\u001b[0m         \u001b[0;31m# Remove full_output from kwargs, otherwise we're passing it in twice.\u001b[0m\u001b[0;34m\u001b[0m\u001b[0;34m\u001b[0m\u001b[0;34m\u001b[0m\u001b[0m\n\u001b[1;32m    788\u001b[0m         \u001b[0mreturn_full\u001b[0m \u001b[0;34m=\u001b[0m \u001b[0mkwargs\u001b[0m\u001b[0;34m.\u001b[0m\u001b[0mpop\u001b[0m\u001b[0;34m(\u001b[0m\u001b[0;34m'full_output'\u001b[0m\u001b[0;34m,\u001b[0m \u001b[0;32mFalse\u001b[0m\u001b[0;34m)\u001b[0m\u001b[0;34m\u001b[0m\u001b[0;34m\u001b[0m\u001b[0m\n\u001b[0;32m--> 789\u001b[0;31m         \u001b[0mres\u001b[0m \u001b[0;34m=\u001b[0m \u001b[0mleastsq\u001b[0m\u001b[0;34m(\u001b[0m\u001b[0mfunc\u001b[0m\u001b[0;34m,\u001b[0m \u001b[0mp0\u001b[0m\u001b[0;34m,\u001b[0m \u001b[0mDfun\u001b[0m\u001b[0;34m=\u001b[0m\u001b[0mjac\u001b[0m\u001b[0;34m,\u001b[0m \u001b[0mfull_output\u001b[0m\u001b[0;34m=\u001b[0m\u001b[0;36m1\u001b[0m\u001b[0;34m,\u001b[0m \u001b[0;34m**\u001b[0m\u001b[0mkwargs\u001b[0m\u001b[0;34m)\u001b[0m\u001b[0;34m\u001b[0m\u001b[0;34m\u001b[0m\u001b[0m\n\u001b[0m\u001b[1;32m    790\u001b[0m         \u001b[0mpopt\u001b[0m\u001b[0;34m,\u001b[0m \u001b[0mpcov\u001b[0m\u001b[0;34m,\u001b[0m \u001b[0minfodict\u001b[0m\u001b[0;34m,\u001b[0m \u001b[0merrmsg\u001b[0m\u001b[0;34m,\u001b[0m \u001b[0mier\u001b[0m \u001b[0;34m=\u001b[0m \u001b[0mres\u001b[0m\u001b[0;34m\u001b[0m\u001b[0;34m\u001b[0m\u001b[0m\n\u001b[1;32m    791\u001b[0m         \u001b[0mysize\u001b[0m \u001b[0;34m=\u001b[0m \u001b[0mlen\u001b[0m\u001b[0;34m(\u001b[0m\u001b[0minfodict\u001b[0m\u001b[0;34m[\u001b[0m\u001b[0;34m'fvec'\u001b[0m\u001b[0;34m]\u001b[0m\u001b[0;34m)\u001b[0m\u001b[0;34m\u001b[0m\u001b[0;34m\u001b[0m\u001b[0m\n",
            "\u001b[0;31mTypeError\u001b[0m: leastsq() got an unexpected keyword argument 'dtype'"
          ]
        }
      ]
    },
    {
      "cell_type": "markdown",
      "metadata": {
        "id": "60b4bs1od4M_"
      },
      "source": [
        "Using this structure, you can in theory build whatever models you like!\n",
        "\n",
        "Some recommendations (but not necessary to do all):-\n",
        "\n",
        "\n",
        "\n",
        "*   Gauss+Exponential (as above)\n",
        "*   Crystal Ball + Exponential\n",
        "*   Gauss+Crystal Ball+Exponential (now you need to weigh the two signal peaks and then the total signal against total background)\n",
        "*   Gauss+Chebychev\n",
        "*   Two Crystal Balls + Exponential"
      ]
    },
    {
      "cell_type": "markdown",
      "metadata": {
        "id": "vHivSaH1dwy7"
      },
      "source": [
        "So how good was the fit, and how many events do you have?\n",
        "\n",
        "We can use the .getValV() function on our signal and background *normalisation* components, e.g. Gauss_Norm=Gauss.getValV()\n",
        "\n",
        "To find the error (on this number) we can use .getError()\n",
        "\n",
        "Neither of these measures would tell us if this was a good fit or not. Normally we use a χ2 test to do so - this is built into the image we made (so we can do frame.chiSquare() to get this data)\n",
        "\n",
        "For each model you made, print the signal and background yields (with errors) and report the χ2"
      ]
    },
    {
      "cell_type": "markdown",
      "metadata": {
        "id": "ob2HARgWoTGe"
      },
      "source": [
        "#Counting\n",
        "\n",
        "So we have now loaded our data; we have reconstructed information about the mother B meson and we have cut away any data which looks like it might not be what we are looking for. We have then plotted histograms of the mass of the B meson and used this to fit a model, a function to describe the events there. We now have to identify which of our events belong to the B<sup>+</sup> and how many of them belong to B<sup>-</sup>.\n",
        "\n",
        "To do this, should split out data into two groups (and throw away data which doesn't comply with either decay)\n",
        "\n",
        "We will be looking for the events which are\n",
        "\n",
        "\n",
        "B<sup>+</sup>->K<sup>+</sup> + K<sup>+</sup>  + K<sup>-</sup>\n",
        "\n",
        "or\n",
        "\n",
        "B<sup>-</sup>->K<sup>-</sup> + K<sup>-</sup>  + K<sup>+</sup>\n",
        "\n",
        "We can look for the number of positive and negative charges in H1, H2 and H3 (using the variable ```H1_Charge``` etc.). If we have 0 or 3 positive charges, we should throw the event away and if we have 1 it should be assigned be a B<sup>-</sup>, with 2 it should be a B<sup>+</sup>"
      ]
    },
    {
      "cell_type": "markdown",
      "metadata": {
        "id": "r8VB5uN1obc4"
      },
      "source": [
        "Once we have defined if it's a B<sup>+</sup> or a B <sup>-</sup>, we should go ahead and ensure the pre-selection is applied and then plot our B mass, and fit the model to find the yield.\n",
        "\n",
        "We can then calculate the assymetry from this equation:\n",
        "\n",
        "$A=\\frac{(N^{B-}-N^{B+})}{(N^{B-}+N^{B+})}$\n",
        "\n",
        "Where N<sup>B+/- </sup> is the number of events found from the fitted yield of the signal from each data set.\n",
        "\n",
        "The uncertainty on this result is given by:\n",
        "\n",
        "$\\sigma_A=\\sqrt\\frac{1-A^2}{N^{B-}+N^{B+}}$\n",
        "\n",
        "Calculate these two values for your data and print them below:"
      ]
    },
    {
      "cell_type": "code",
      "execution_count": null,
      "metadata": {
        "id": "UiPNe2iuobSK"
      },
      "outputs": [],
      "source": [
        "#Here do your calculation of the final result\n"
      ]
    },
    {
      "cell_type": "markdown",
      "metadata": {
        "id": "r5B--_33okz1"
      },
      "source": [
        "#Congratulations!\n",
        "\n",
        "You just made your first LHCb physics analysis. Does this seem like a reasonable result? Did we explain why we have an excess of mass in the Universe?"
      ]
    }
  ],
  "metadata": {
    "colab": {
      "provenance": [],
      "include_colab_link": true
    },
    "gpuClass": "standard",
    "kernelspec": {
      "display_name": "Python 2",
      "name": "python2"
    }
  },
  "nbformat": 4,
  "nbformat_minor": 0
}